{
 "cells": [
  {
   "cell_type": "markdown",
   "metadata": {},
   "source": [
    "# API 資料串接 - 以 知乎 API 實作範例\n",
    "\n",
    "\n",
    "\n",
    "* 了解知乎 API 使用方式與回傳內容\n",
    "* 撰寫程式存取 API 且添加標頭\n",
    "\n",
    "\n"
   ]
  },
  {
   "cell_type": "markdown",
   "metadata": {},
   "source": [
    "## 作業目標\n",
    "\n",
    "* 根據範例提供的 API ，完成以下問題：\n",
    "\n",
    "    1. 取出知乎問題發問時間\n",
    "    2. 取出第一筆與最後一筆回答的時間\n"
   ]
  },
  {
   "cell_type": "markdown",
   "metadata": {},
   "source": [
    "### 1. 取出知乎問題發問時間"
   ]
  },
  {
   "cell_type": "code",
   "execution_count": 4,
   "metadata": {},
   "outputs": [
    {
     "data": {
      "text/plain": [
       "{'data': [{'id': 637938925,\n",
       "   'type': 'answer',\n",
       "   'answer_type': 'normal',\n",
       "   'question': {'type': 'question',\n",
       "    'id': 55493026,\n",
       "    'title': '你们都是怎么学 Python 的？',\n",
       "    'question_type': 'normal',\n",
       "    'created': 1486390229,\n",
       "    'updated_time': 1582533957,\n",
       "    'url': 'https://www.zhihu.com/api/v4/questions/55493026',\n",
       "    'relationship': {}},\n",
       "   'author': {'id': 'e8c4768eaa41e3749f7e8bc5ac6aa74b',\n",
       "    'url_token': 'Lanyuneet',\n",
       "    'name': 'Slumbers',\n",
       "    'avatar_url': 'https://pic4.zhimg.com/v2-f950cfef511d33500177be90030dcd3d_l.jpg?source=1940ef5c',\n",
       "    'avatar_url_template': 'https://pic3.zhimg.com/v2-f950cfef511d33500177be90030dcd3d.jpg?source=1940ef5c',\n",
       "    'is_org': False,\n",
       "    'type': 'people',\n",
       "    'url': 'https://www.zhihu.com/api/v4/people/e8c4768eaa41e3749f7e8bc5ac6aa74b',\n",
       "    'user_type': 'people',\n",
       "    'headline': '算法工程师',\n",
       "    'badge': [],\n",
       "    'badge_v2': {'title': '',\n",
       "     'merged_badges': [],\n",
       "     'detail_badges': [],\n",
       "     'icon': '',\n",
       "     'night_icon': ''},\n",
       "    'gender': 0,\n",
       "    'is_advertiser': False,\n",
       "    'is_privacy': False},\n",
       "   'url': 'https://www.zhihu.com/api/v4/answers/637938925',\n",
       "   'is_collapsed': False,\n",
       "   'created_time': 1554085028,\n",
       "   'updated_time': 1558451618,\n",
       "   'extras': '',\n",
       "   'is_copyable': True,\n",
       "   'relationship': {'upvoted_followees': []},\n",
       "   'ad_answer': None},\n",
       "  {'id': 683070334,\n",
       "   'type': 'answer',\n",
       "   'answer_type': 'normal',\n",
       "   'question': {'type': 'question',\n",
       "    'id': 55493026,\n",
       "    'title': '你们都是怎么学 Python 的？',\n",
       "    'question_type': 'normal',\n",
       "    'created': 1486390229,\n",
       "    'updated_time': 1582533957,\n",
       "    'url': 'https://www.zhihu.com/api/v4/questions/55493026',\n",
       "    'relationship': {}},\n",
       "   'author': {'id': '36f69162230003d316d0b8a6d8da20ba',\n",
       "    'url_token': 'liang-zi-wei-48',\n",
       "    'name': '量子位',\n",
       "    'avatar_url': 'https://pic4.zhimg.com/v2-ca6e7ffc10a0d10edbae635cee82d007_l.jpg?source=1940ef5c',\n",
       "    'avatar_url_template': 'https://pic2.zhimg.com/v2-ca6e7ffc10a0d10edbae635cee82d007.jpg?source=1940ef5c',\n",
       "    'is_org': True,\n",
       "    'type': 'people',\n",
       "    'url': 'https://www.zhihu.com/api/v4/people/36f69162230003d316d0b8a6d8da20ba',\n",
       "    'user_type': 'organization',\n",
       "    'headline': '有趣的AI&amp;前沿科技→_→ 公众号：QbitAI',\n",
       "    'badge': [{'type': 'identity', 'description': '已认证的官方帐号', 'topics': []},\n",
       "     {'type': 'best_answerer', 'description': '优秀回答者', 'topics': []}],\n",
       "    'badge_v2': {'title': '数学等 5 个话题下的优秀回答者',\n",
       "     'merged_badges': [{'type': 'best',\n",
       "       'detail_type': 'best',\n",
       "       'title': '优秀认证',\n",
       "       'description': '数学等 5 个话题下的优秀回答者',\n",
       "       'url': 'https://www.zhihu.com/topic/20054793',\n",
       "       'sources': [{'id': '19554091',\n",
       "         'token': '19554091',\n",
       "         'type': 'topic',\n",
       "         'url': 'https://www.zhihu.com/topic/19554091',\n",
       "         'name': '数学',\n",
       "         'avatar_path': 'v2-351d57389cf50b002a20606caac645cf',\n",
       "         'avatar_url': 'https://pic3.zhimg.com/v2-351d57389cf50b002a20606caac645cf_hd.jpg',\n",
       "         'description': '',\n",
       "         'priority': 0},\n",
       "        {'id': '19556664',\n",
       "         'token': '19556664',\n",
       "         'type': 'topic',\n",
       "         'url': 'https://www.zhihu.com/topic/19556664',\n",
       "         'name': '科技',\n",
       "         'avatar_path': '6d7dc1d82127396331a952e93fda484e',\n",
       "         'avatar_url': 'https://pic1.zhimg.com/6d7dc1d82127396331a952e93fda484e_hd.jpg',\n",
       "         'description': '',\n",
       "         'priority': 0},\n",
       "        {'id': '19556895',\n",
       "         'token': '19556895',\n",
       "         'type': 'topic',\n",
       "         'url': 'https://www.zhihu.com/topic/19556895',\n",
       "         'name': '科研',\n",
       "         'avatar_path': 'v2-f94b3093434c09b4501b056d142025e0',\n",
       "         'avatar_url': 'https://pic1.zhimg.com/v2-f94b3093434c09b4501b056d142025e0_hd.jpg',\n",
       "         'description': '',\n",
       "         'priority': 0},\n",
       "        {'id': '19635352',\n",
       "         'token': '19635352',\n",
       "         'type': 'topic',\n",
       "         'url': 'https://www.zhihu.com/topic/19635352',\n",
       "         'name': '自动驾驶',\n",
       "         'avatar_path': 'v2-a4deab1b73004d7c3fda759c7942c53f',\n",
       "         'avatar_url': 'https://pic3.zhimg.com/v2-a4deab1b73004d7c3fda759c7942c53f_hd.jpg',\n",
       "         'description': '',\n",
       "         'priority': 0},\n",
       "        {'id': '19551275',\n",
       "         'token': '19551275',\n",
       "         'type': 'topic',\n",
       "         'url': 'https://www.zhihu.com/topic/19551275',\n",
       "         'name': '人工智能',\n",
       "         'avatar_path': 'v2-c41d10d22173d515740c43c70f885705',\n",
       "         'avatar_url': 'https://pic4.zhimg.com/v2-c41d10d22173d515740c43c70f885705_hd.jpg',\n",
       "         'description': '',\n",
       "         'priority': 0}],\n",
       "       'icon': '',\n",
       "       'night_icon': ''},\n",
       "      {'type': 'identity',\n",
       "       'detail_type': 'identity',\n",
       "       'title': '认证',\n",
       "       'description': '已认证的官方帐号',\n",
       "       'url': 'https://www.zhihu.com/account/verification/intro',\n",
       "       'sources': [],\n",
       "       'icon': '',\n",
       "       'night_icon': ''}],\n",
       "     'detail_badges': [{'type': 'best',\n",
       "       'detail_type': 'best_answerer',\n",
       "       'title': '优秀回答者',\n",
       "       'description': '数学等 5 个话题下的优秀回答者',\n",
       "       'url': 'https://www.zhihu.com/topic/20054793',\n",
       "       'sources': [{'id': '19554091',\n",
       "         'token': '19554091',\n",
       "         'type': 'topic',\n",
       "         'url': 'https://www.zhihu.com/topic/19554091',\n",
       "         'name': '数学',\n",
       "         'avatar_path': 'v2-351d57389cf50b002a20606caac645cf',\n",
       "         'avatar_url': 'https://pic3.zhimg.com/v2-351d57389cf50b002a20606caac645cf_hd.jpg',\n",
       "         'description': '',\n",
       "         'priority': 0},\n",
       "        {'id': '19556664',\n",
       "         'token': '19556664',\n",
       "         'type': 'topic',\n",
       "         'url': 'https://www.zhihu.com/topic/19556664',\n",
       "         'name': '科技',\n",
       "         'avatar_path': '6d7dc1d82127396331a952e93fda484e',\n",
       "         'avatar_url': 'https://pic1.zhimg.com/6d7dc1d82127396331a952e93fda484e_hd.jpg',\n",
       "         'description': '',\n",
       "         'priority': 0},\n",
       "        {'id': '19556895',\n",
       "         'token': '19556895',\n",
       "         'type': 'topic',\n",
       "         'url': 'https://www.zhihu.com/topic/19556895',\n",
       "         'name': '科研',\n",
       "         'avatar_path': 'v2-f94b3093434c09b4501b056d142025e0',\n",
       "         'avatar_url': 'https://pic1.zhimg.com/v2-f94b3093434c09b4501b056d142025e0_hd.jpg',\n",
       "         'description': '',\n",
       "         'priority': 0},\n",
       "        {'id': '19635352',\n",
       "         'token': '19635352',\n",
       "         'type': 'topic',\n",
       "         'url': 'https://www.zhihu.com/topic/19635352',\n",
       "         'name': '自动驾驶',\n",
       "         'avatar_path': 'v2-a4deab1b73004d7c3fda759c7942c53f',\n",
       "         'avatar_url': 'https://pic3.zhimg.com/v2-a4deab1b73004d7c3fda759c7942c53f_hd.jpg',\n",
       "         'description': '',\n",
       "         'priority': 0},\n",
       "        {'id': '19551275',\n",
       "         'token': '19551275',\n",
       "         'type': 'topic',\n",
       "         'url': 'https://www.zhihu.com/topic/19551275',\n",
       "         'name': '人工智能',\n",
       "         'avatar_path': 'v2-c41d10d22173d515740c43c70f885705',\n",
       "         'avatar_url': 'https://pic4.zhimg.com/v2-c41d10d22173d515740c43c70f885705_hd.jpg',\n",
       "         'description': '',\n",
       "         'priority': 0}],\n",
       "       'icon': 'https://pic4.zhimg.com/v2-bf0eec3c31c8e866c468f60eb296696c_l.png',\n",
       "       'night_icon': 'https://pic1.zhimg.com/v2-c724649168d8f9d36d7c3d13140a2594_l.png'},\n",
       "      {'type': 'identity',\n",
       "       'detail_type': 'identity_org',\n",
       "       'title': '已认证的官方帐号',\n",
       "       'description': '已认证的官方帐号',\n",
       "       'url': 'https://www.zhihu.com/account/verification/intro',\n",
       "       'sources': [],\n",
       "       'icon': 'https://pic3.zhimg.com/v2-235258cecb8a0f184c4d38483cd6f6b6_l.png',\n",
       "       'night_icon': 'https://pic2.zhimg.com/v2-45e870b8f0982bcd7537ea4627afbd00_l.png'}],\n",
       "     'icon': 'https://pic3.zhimg.com/v2-7a1a13d7531f29551f79278e9391b8ee_l.png',\n",
       "     'night_icon': 'https://pic2.zhimg.com/v2-af71f641951fd5f8b4a7d305288693df_l.png'},\n",
       "    'gender': -1,\n",
       "    'is_advertiser': False,\n",
       "    'is_privacy': False},\n",
       "   'url': 'https://www.zhihu.com/api/v4/answers/683070334',\n",
       "   'is_collapsed': False,\n",
       "   'created_time': 1557824412,\n",
       "   'updated_time': 1557824412,\n",
       "   'extras': '',\n",
       "   'is_copyable': True,\n",
       "   'relationship': {'upvoted_followees': []},\n",
       "   'ad_answer': None},\n",
       "  {'id': 1106818911,\n",
       "   'type': 'answer',\n",
       "   'answer_type': 'paid',\n",
       "   'question': {'type': 'question',\n",
       "    'id': 55493026,\n",
       "    'title': '你们都是怎么学 Python 的？',\n",
       "    'question_type': 'normal',\n",
       "    'created': 1486390229,\n",
       "    'updated_time': 1582533957,\n",
       "    'url': 'https://www.zhihu.com/api/v4/questions/55493026',\n",
       "    'relationship': {}},\n",
       "   'author': {'id': '1ab00059f301920f1dae9d92386937e6',\n",
       "    'url_token': 'zhi-hu-ke-tang',\n",
       "    'name': '知乎课堂',\n",
       "    'avatar_url': 'https://pic1.zhimg.com/v2-e1b963abfa4c07d04d7b66bc482b1094_l.jpg?source=1940ef5c',\n",
       "    'avatar_url_template': 'https://picb.zhimg.com/v2-e1b963abfa4c07d04d7b66bc482b1094.jpg?source=1940ef5c',\n",
       "    'is_org': True,\n",
       "    'type': 'people',\n",
       "    'url': 'https://www.zhihu.com/api/v4/people/1ab00059f301920f1dae9d92386937e6',\n",
       "    'user_type': 'organization',\n",
       "    'headline': '欢迎关注公众号：知乎职场圈，每天解锁一个新技能。',\n",
       "    'badge': [{'type': 'identity', 'description': '已认证的官方帐号', 'topics': []}],\n",
       "    'badge_v2': {'title': '已认证的官方帐号',\n",
       "     'merged_badges': [{'type': 'identity',\n",
       "       'detail_type': 'identity',\n",
       "       'title': '认证',\n",
       "       'description': '已认证的官方帐号',\n",
       "       'url': 'https://www.zhihu.com/account/verification/intro',\n",
       "       'sources': [],\n",
       "       'icon': '',\n",
       "       'night_icon': ''}],\n",
       "     'detail_badges': [{'type': 'identity',\n",
       "       'detail_type': 'identity_org',\n",
       "       'title': '已认证的官方帐号',\n",
       "       'description': '已认证的官方帐号',\n",
       "       'url': 'https://www.zhihu.com/account/verification/intro',\n",
       "       'sources': [],\n",
       "       'icon': 'https://pic4.zhimg.com/v2-235258cecb8a0f184c4d38483cd6f6b6_l.png',\n",
       "       'night_icon': 'https://pic1.zhimg.com/v2-45e870b8f0982bcd7537ea4627afbd00_l.png'}],\n",
       "     'icon': 'https://pic3.zhimg.com/v2-235258cecb8a0f184c4d38483cd6f6b6_l.png',\n",
       "     'night_icon': 'https://pic4.zhimg.com/v2-45e870b8f0982bcd7537ea4627afbd00_l.png'},\n",
       "    'gender': -1,\n",
       "    'is_advertiser': True,\n",
       "    'is_privacy': False},\n",
       "   'url': 'https://www.zhihu.com/api/v4/answers/1106818911',\n",
       "   'is_collapsed': False,\n",
       "   'created_time': 1585227854,\n",
       "   'updated_time': 1585227854,\n",
       "   'extras': '',\n",
       "   'is_copyable': False,\n",
       "   'relationship': {'upvoted_followees': []},\n",
       "   'ad_answer': None},\n",
       "  {'id': 163537026,\n",
       "   'type': 'answer',\n",
       "   'answer_type': 'normal',\n",
       "   'question': {'type': 'question',\n",
       "    'id': 55493026,\n",
       "    'title': '你们都是怎么学 Python 的？',\n",
       "    'question_type': 'normal',\n",
       "    'created': 1486390229,\n",
       "    'updated_time': 1582533957,\n",
       "    'url': 'https://www.zhihu.com/api/v4/questions/55493026',\n",
       "    'relationship': {}},\n",
       "   'author': {'id': 'eaf435b228ce0b038a4afe8203f59b49',\n",
       "    'url_token': 'sgai',\n",
       "    'name': '路人甲',\n",
       "    'avatar_url': 'https://pic1.zhimg.com/958a18f3216805bed269d158fb83325a_l.jpg?source=1940ef5c',\n",
       "    'avatar_url_template': 'https://pic4.zhimg.com/958a18f3216805bed269d158fb83325a.jpg?source=1940ef5c',\n",
       "    'is_org': False,\n",
       "    'type': 'people',\n",
       "    'url': 'https://www.zhihu.com/api/v4/people/eaf435b228ce0b038a4afe8203f59b49',\n",
       "    'user_type': 'people',\n",
       "    'headline': '微信公众号：路人甲TM，微信：904727147',\n",
       "    'badge': [],\n",
       "    'badge_v2': {'title': '',\n",
       "     'merged_badges': [],\n",
       "     'detail_badges': [],\n",
       "     'icon': '',\n",
       "     'night_icon': ''},\n",
       "    'gender': 1,\n",
       "    'is_advertiser': False,\n",
       "    'is_privacy': False},\n",
       "   'url': 'https://www.zhihu.com/api/v4/answers/163537026',\n",
       "   'is_collapsed': False,\n",
       "   'created_time': 1493693113,\n",
       "   'updated_time': 1579138388,\n",
       "   'extras': '',\n",
       "   'is_copyable': True,\n",
       "   'relationship': {'upvoted_followees': []},\n",
       "   'ad_answer': None},\n",
       "  {'id': 873825546,\n",
       "   'type': 'answer',\n",
       "   'answer_type': 'normal',\n",
       "   'question': {'type': 'question',\n",
       "    'id': 55493026,\n",
       "    'title': '你们都是怎么学 Python 的？',\n",
       "    'question_type': 'normal',\n",
       "    'created': 1486390229,\n",
       "    'updated_time': 1582533957,\n",
       "    'url': 'https://www.zhihu.com/api/v4/questions/55493026',\n",
       "    'relationship': {}},\n",
       "   'author': {'id': '4d1c2c77bc7431c2a6006d154198e8b9',\n",
       "    'url_token': 'ji-de-yao-xing-fu',\n",
       "    'name': '痴海',\n",
       "    'avatar_url': 'https://pic2.zhimg.com/v2-e8b4f9dff1e3c3170185584c925d388a_l.jpg?source=1940ef5c',\n",
       "    'avatar_url_template': 'https://pic1.zhimg.com/v2-e8b4f9dff1e3c3170185584c925d388a.jpg?source=1940ef5c',\n",
       "    'is_org': False,\n",
       "    'type': 'people',\n",
       "    'url': 'https://www.zhihu.com/api/v4/people/4d1c2c77bc7431c2a6006d154198e8b9',\n",
       "    'user_type': 'people',\n",
       "    'headline': '公众号痴海：每周一篇干货文',\n",
       "    'badge': [],\n",
       "    'badge_v2': {'title': '',\n",
       "     'merged_badges': [],\n",
       "     'detail_badges': [],\n",
       "     'icon': '',\n",
       "     'night_icon': ''},\n",
       "    'gender': 1,\n",
       "    'is_advertiser': False,\n",
       "    'is_privacy': False},\n",
       "   'url': 'https://www.zhihu.com/api/v4/answers/873825546',\n",
       "   'is_collapsed': False,\n",
       "   'created_time': 1572318426,\n",
       "   'updated_time': 1600948685,\n",
       "   'extras': '',\n",
       "   'is_copyable': False,\n",
       "   'relationship': {'upvoted_followees': []},\n",
       "   'ad_answer': None}],\n",
       " 'paging': {'is_end': False,\n",
       "  'is_start': True,\n",
       "  'next': 'https://www.zhihu.com/api/v4/questions/55493026/answers?limit=5&offset=5',\n",
       "  'previous': 'https://www.zhihu.com/api/v4/questions/55493026/answers?limit=5&offset=0',\n",
       "  'totals': 621}}"
      ]
     },
     "execution_count": 4,
     "metadata": {},
     "output_type": "execute_result"
    }
   ],
   "source": [
    "# 1. 取出知乎問題發問時間\n",
    "import requests\n",
    "import json\n",
    "headers = {'user-agent': 'my-app/0.0.1'}\n",
    "r = requests.get('https://www.zhihu.com/api/v4/questions/55493026/answers',headers=headers)\n",
    "response = r.text\n",
    "data=json.loads(response)\n",
    "data"
   ]
  },
  {
   "cell_type": "code",
   "execution_count": 20,
   "metadata": {},
   "outputs": [
    {
     "name": "stdout",
     "output_type": "stream",
     "text": [
      "data\n",
      "paging\n",
      "/////////////////\n",
      "is_end\n",
      "is_start\n",
      "next\n",
      "previous\n",
      "totals\n"
     ]
    }
   ],
   "source": [
    "for d in data:\n",
    "    print(d)\n",
    "print('/////////////////')\n",
    "for d in data['paging']:\n",
    "    print(d)"
   ]
  },
  {
   "cell_type": "code",
   "execution_count": 8,
   "metadata": {},
   "outputs": [
    {
     "name": "stdout",
     "output_type": "stream",
     "text": [
      "{'id': 637938925, 'type': 'answer', 'answer_type': 'normal', 'question': {'type': 'question', 'id': 55493026, 'title': '你们都是怎么学 Python 的？', 'question_type': 'normal', 'created': 1486390229, 'updated_time': 1582533957, 'url': 'https://www.zhihu.com/api/v4/questions/55493026', 'relationship': {}}, 'author': {'id': 'e8c4768eaa41e3749f7e8bc5ac6aa74b', 'url_token': 'Lanyuneet', 'name': 'Slumbers', 'avatar_url': 'https://pic4.zhimg.com/v2-f950cfef511d33500177be90030dcd3d_l.jpg?source=1940ef5c', 'avatar_url_template': 'https://pic3.zhimg.com/v2-f950cfef511d33500177be90030dcd3d.jpg?source=1940ef5c', 'is_org': False, 'type': 'people', 'url': 'https://www.zhihu.com/api/v4/people/e8c4768eaa41e3749f7e8bc5ac6aa74b', 'user_type': 'people', 'headline': '算法工程师', 'badge': [], 'badge_v2': {'title': '', 'merged_badges': [], 'detail_badges': [], 'icon': '', 'night_icon': ''}, 'gender': 0, 'is_advertiser': False, 'is_privacy': False}, 'url': 'https://www.zhihu.com/api/v4/answers/637938925', 'is_collapsed': False, 'created_time': 1554085028, 'updated_time': 1558451618, 'extras': '', 'is_copyable': True, 'relationship': {'upvoted_followees': []}, 'ad_answer': None}\n",
      "{'id': 683070334, 'type': 'answer', 'answer_type': 'normal', 'question': {'type': 'question', 'id': 55493026, 'title': '你们都是怎么学 Python 的？', 'question_type': 'normal', 'created': 1486390229, 'updated_time': 1582533957, 'url': 'https://www.zhihu.com/api/v4/questions/55493026', 'relationship': {}}, 'author': {'id': '36f69162230003d316d0b8a6d8da20ba', 'url_token': 'liang-zi-wei-48', 'name': '量子位', 'avatar_url': 'https://pic4.zhimg.com/v2-ca6e7ffc10a0d10edbae635cee82d007_l.jpg?source=1940ef5c', 'avatar_url_template': 'https://pic2.zhimg.com/v2-ca6e7ffc10a0d10edbae635cee82d007.jpg?source=1940ef5c', 'is_org': True, 'type': 'people', 'url': 'https://www.zhihu.com/api/v4/people/36f69162230003d316d0b8a6d8da20ba', 'user_type': 'organization', 'headline': '有趣的AI&amp;前沿科技→_→ 公众号：QbitAI', 'badge': [{'type': 'identity', 'description': '已认证的官方帐号', 'topics': []}, {'type': 'best_answerer', 'description': '优秀回答者', 'topics': []}], 'badge_v2': {'title': '数学等 5 个话题下的优秀回答者', 'merged_badges': [{'type': 'best', 'detail_type': 'best', 'title': '优秀认证', 'description': '数学等 5 个话题下的优秀回答者', 'url': 'https://www.zhihu.com/topic/20054793', 'sources': [{'id': '19554091', 'token': '19554091', 'type': 'topic', 'url': 'https://www.zhihu.com/topic/19554091', 'name': '数学', 'avatar_path': 'v2-351d57389cf50b002a20606caac645cf', 'avatar_url': 'https://pic3.zhimg.com/v2-351d57389cf50b002a20606caac645cf_hd.jpg', 'description': '', 'priority': 0}, {'id': '19556664', 'token': '19556664', 'type': 'topic', 'url': 'https://www.zhihu.com/topic/19556664', 'name': '科技', 'avatar_path': '6d7dc1d82127396331a952e93fda484e', 'avatar_url': 'https://pic1.zhimg.com/6d7dc1d82127396331a952e93fda484e_hd.jpg', 'description': '', 'priority': 0}, {'id': '19556895', 'token': '19556895', 'type': 'topic', 'url': 'https://www.zhihu.com/topic/19556895', 'name': '科研', 'avatar_path': 'v2-f94b3093434c09b4501b056d142025e0', 'avatar_url': 'https://pic1.zhimg.com/v2-f94b3093434c09b4501b056d142025e0_hd.jpg', 'description': '', 'priority': 0}, {'id': '19635352', 'token': '19635352', 'type': 'topic', 'url': 'https://www.zhihu.com/topic/19635352', 'name': '自动驾驶', 'avatar_path': 'v2-a4deab1b73004d7c3fda759c7942c53f', 'avatar_url': 'https://pic3.zhimg.com/v2-a4deab1b73004d7c3fda759c7942c53f_hd.jpg', 'description': '', 'priority': 0}, {'id': '19551275', 'token': '19551275', 'type': 'topic', 'url': 'https://www.zhihu.com/topic/19551275', 'name': '人工智能', 'avatar_path': 'v2-c41d10d22173d515740c43c70f885705', 'avatar_url': 'https://pic4.zhimg.com/v2-c41d10d22173d515740c43c70f885705_hd.jpg', 'description': '', 'priority': 0}], 'icon': '', 'night_icon': ''}, {'type': 'identity', 'detail_type': 'identity', 'title': '认证', 'description': '已认证的官方帐号', 'url': 'https://www.zhihu.com/account/verification/intro', 'sources': [], 'icon': '', 'night_icon': ''}], 'detail_badges': [{'type': 'best', 'detail_type': 'best_answerer', 'title': '优秀回答者', 'description': '数学等 5 个话题下的优秀回答者', 'url': 'https://www.zhihu.com/topic/20054793', 'sources': [{'id': '19554091', 'token': '19554091', 'type': 'topic', 'url': 'https://www.zhihu.com/topic/19554091', 'name': '数学', 'avatar_path': 'v2-351d57389cf50b002a20606caac645cf', 'avatar_url': 'https://pic3.zhimg.com/v2-351d57389cf50b002a20606caac645cf_hd.jpg', 'description': '', 'priority': 0}, {'id': '19556664', 'token': '19556664', 'type': 'topic', 'url': 'https://www.zhihu.com/topic/19556664', 'name': '科技', 'avatar_path': '6d7dc1d82127396331a952e93fda484e', 'avatar_url': 'https://pic1.zhimg.com/6d7dc1d82127396331a952e93fda484e_hd.jpg', 'description': '', 'priority': 0}, {'id': '19556895', 'token': '19556895', 'type': 'topic', 'url': 'https://www.zhihu.com/topic/19556895', 'name': '科研', 'avatar_path': 'v2-f94b3093434c09b4501b056d142025e0', 'avatar_url': 'https://pic1.zhimg.com/v2-f94b3093434c09b4501b056d142025e0_hd.jpg', 'description': '', 'priority': 0}, {'id': '19635352', 'token': '19635352', 'type': 'topic', 'url': 'https://www.zhihu.com/topic/19635352', 'name': '自动驾驶', 'avatar_path': 'v2-a4deab1b73004d7c3fda759c7942c53f', 'avatar_url': 'https://pic3.zhimg.com/v2-a4deab1b73004d7c3fda759c7942c53f_hd.jpg', 'description': '', 'priority': 0}, {'id': '19551275', 'token': '19551275', 'type': 'topic', 'url': 'https://www.zhihu.com/topic/19551275', 'name': '人工智能', 'avatar_path': 'v2-c41d10d22173d515740c43c70f885705', 'avatar_url': 'https://pic4.zhimg.com/v2-c41d10d22173d515740c43c70f885705_hd.jpg', 'description': '', 'priority': 0}], 'icon': 'https://pic4.zhimg.com/v2-bf0eec3c31c8e866c468f60eb296696c_l.png', 'night_icon': 'https://pic1.zhimg.com/v2-c724649168d8f9d36d7c3d13140a2594_l.png'}, {'type': 'identity', 'detail_type': 'identity_org', 'title': '已认证的官方帐号', 'description': '已认证的官方帐号', 'url': 'https://www.zhihu.com/account/verification/intro', 'sources': [], 'icon': 'https://pic3.zhimg.com/v2-235258cecb8a0f184c4d38483cd6f6b6_l.png', 'night_icon': 'https://pic2.zhimg.com/v2-45e870b8f0982bcd7537ea4627afbd00_l.png'}], 'icon': 'https://pic3.zhimg.com/v2-7a1a13d7531f29551f79278e9391b8ee_l.png', 'night_icon': 'https://pic2.zhimg.com/v2-af71f641951fd5f8b4a7d305288693df_l.png'}, 'gender': -1, 'is_advertiser': False, 'is_privacy': False}, 'url': 'https://www.zhihu.com/api/v4/answers/683070334', 'is_collapsed': False, 'created_time': 1557824412, 'updated_time': 1557824412, 'extras': '', 'is_copyable': True, 'relationship': {'upvoted_followees': []}, 'ad_answer': None}\n",
      "{'id': 1106818911, 'type': 'answer', 'answer_type': 'paid', 'question': {'type': 'question', 'id': 55493026, 'title': '你们都是怎么学 Python 的？', 'question_type': 'normal', 'created': 1486390229, 'updated_time': 1582533957, 'url': 'https://www.zhihu.com/api/v4/questions/55493026', 'relationship': {}}, 'author': {'id': '1ab00059f301920f1dae9d92386937e6', 'url_token': 'zhi-hu-ke-tang', 'name': '知乎课堂', 'avatar_url': 'https://pic1.zhimg.com/v2-e1b963abfa4c07d04d7b66bc482b1094_l.jpg?source=1940ef5c', 'avatar_url_template': 'https://picb.zhimg.com/v2-e1b963abfa4c07d04d7b66bc482b1094.jpg?source=1940ef5c', 'is_org': True, 'type': 'people', 'url': 'https://www.zhihu.com/api/v4/people/1ab00059f301920f1dae9d92386937e6', 'user_type': 'organization', 'headline': '欢迎关注公众号：知乎职场圈，每天解锁一个新技能。', 'badge': [{'type': 'identity', 'description': '已认证的官方帐号', 'topics': []}], 'badge_v2': {'title': '已认证的官方帐号', 'merged_badges': [{'type': 'identity', 'detail_type': 'identity', 'title': '认证', 'description': '已认证的官方帐号', 'url': 'https://www.zhihu.com/account/verification/intro', 'sources': [], 'icon': '', 'night_icon': ''}], 'detail_badges': [{'type': 'identity', 'detail_type': 'identity_org', 'title': '已认证的官方帐号', 'description': '已认证的官方帐号', 'url': 'https://www.zhihu.com/account/verification/intro', 'sources': [], 'icon': 'https://pic4.zhimg.com/v2-235258cecb8a0f184c4d38483cd6f6b6_l.png', 'night_icon': 'https://pic1.zhimg.com/v2-45e870b8f0982bcd7537ea4627afbd00_l.png'}], 'icon': 'https://pic3.zhimg.com/v2-235258cecb8a0f184c4d38483cd6f6b6_l.png', 'night_icon': 'https://pic4.zhimg.com/v2-45e870b8f0982bcd7537ea4627afbd00_l.png'}, 'gender': -1, 'is_advertiser': True, 'is_privacy': False}, 'url': 'https://www.zhihu.com/api/v4/answers/1106818911', 'is_collapsed': False, 'created_time': 1585227854, 'updated_time': 1585227854, 'extras': '', 'is_copyable': False, 'relationship': {'upvoted_followees': []}, 'ad_answer': None}\n",
      "{'id': 163537026, 'type': 'answer', 'answer_type': 'normal', 'question': {'type': 'question', 'id': 55493026, 'title': '你们都是怎么学 Python 的？', 'question_type': 'normal', 'created': 1486390229, 'updated_time': 1582533957, 'url': 'https://www.zhihu.com/api/v4/questions/55493026', 'relationship': {}}, 'author': {'id': 'eaf435b228ce0b038a4afe8203f59b49', 'url_token': 'sgai', 'name': '路人甲', 'avatar_url': 'https://pic1.zhimg.com/958a18f3216805bed269d158fb83325a_l.jpg?source=1940ef5c', 'avatar_url_template': 'https://pic4.zhimg.com/958a18f3216805bed269d158fb83325a.jpg?source=1940ef5c', 'is_org': False, 'type': 'people', 'url': 'https://www.zhihu.com/api/v4/people/eaf435b228ce0b038a4afe8203f59b49', 'user_type': 'people', 'headline': '微信公众号：路人甲TM，微信：904727147', 'badge': [], 'badge_v2': {'title': '', 'merged_badges': [], 'detail_badges': [], 'icon': '', 'night_icon': ''}, 'gender': 1, 'is_advertiser': False, 'is_privacy': False}, 'url': 'https://www.zhihu.com/api/v4/answers/163537026', 'is_collapsed': False, 'created_time': 1493693113, 'updated_time': 1579138388, 'extras': '', 'is_copyable': True, 'relationship': {'upvoted_followees': []}, 'ad_answer': None}\n",
      "{'id': 873825546, 'type': 'answer', 'answer_type': 'normal', 'question': {'type': 'question', 'id': 55493026, 'title': '你们都是怎么学 Python 的？', 'question_type': 'normal', 'created': 1486390229, 'updated_time': 1582533957, 'url': 'https://www.zhihu.com/api/v4/questions/55493026', 'relationship': {}}, 'author': {'id': '4d1c2c77bc7431c2a6006d154198e8b9', 'url_token': 'ji-de-yao-xing-fu', 'name': '痴海', 'avatar_url': 'https://pic2.zhimg.com/v2-e8b4f9dff1e3c3170185584c925d388a_l.jpg?source=1940ef5c', 'avatar_url_template': 'https://pic1.zhimg.com/v2-e8b4f9dff1e3c3170185584c925d388a.jpg?source=1940ef5c', 'is_org': False, 'type': 'people', 'url': 'https://www.zhihu.com/api/v4/people/4d1c2c77bc7431c2a6006d154198e8b9', 'user_type': 'people', 'headline': '公众号痴海：每周一篇干货文', 'badge': [], 'badge_v2': {'title': '', 'merged_badges': [], 'detail_badges': [], 'icon': '', 'night_icon': ''}, 'gender': 1, 'is_advertiser': False, 'is_privacy': False}, 'url': 'https://www.zhihu.com/api/v4/answers/873825546', 'is_collapsed': False, 'created_time': 1572318426, 'updated_time': 1600948685, 'extras': '', 'is_copyable': False, 'relationship': {'upvoted_followees': []}, 'ad_answer': None}\n"
     ]
    }
   ],
   "source": [
    "for d in data['data']:\n",
    "    print(d)"
   ]
  },
  {
   "cell_type": "code",
   "execution_count": 17,
   "metadata": {},
   "outputs": [
    {
     "data": {
      "text/plain": [
       "time.struct_time(tm_year=2017, tm_mon=2, tm_mday=6, tm_hour=22, tm_min=10, tm_sec=29, tm_wday=0, tm_yday=37, tm_isdst=0)"
      ]
     },
     "execution_count": 17,
     "metadata": {},
     "output_type": "execute_result"
    }
   ],
   "source": [
    "import time\n",
    "time.localtime(1486390229)"
   ]
  },
  {
   "cell_type": "markdown",
   "metadata": {},
   "source": [
    "ANS: 2017/2/6 22:10:29 Monday, 37 days had passed."
   ]
  },
  {
   "cell_type": "code",
   "execution_count": 5,
   "metadata": {},
   "outputs": [
    {
     "name": "stdout",
     "output_type": "stream",
     "text": [
      "<class 'dict'>\n",
      "2\n"
     ]
    }
   ],
   "source": [
    "print(type(data))\n",
    "print(len(data))"
   ]
  },
  {
   "cell_type": "markdown",
   "metadata": {},
   "source": [
    "### 2. 取出第一筆與最後一筆回答的時間"
   ]
  },
  {
   "cell_type": "code",
   "execution_count": 21,
   "metadata": {},
   "outputs": [
    {
     "data": {
      "text/plain": [
       "5"
      ]
     },
     "execution_count": 21,
     "metadata": {},
     "output_type": "execute_result"
    }
   ],
   "source": [
    "# 2. 取出第一筆與最後一筆回答的時間\n",
    "len(data['data'])"
   ]
  },
  {
   "cell_type": "code",
   "execution_count": 22,
   "metadata": {},
   "outputs": [
    {
     "data": {
      "text/plain": [
       "{'id': 637938925,\n",
       " 'type': 'answer',\n",
       " 'answer_type': 'normal',\n",
       " 'question': {'type': 'question',\n",
       "  'id': 55493026,\n",
       "  'title': '你们都是怎么学 Python 的？',\n",
       "  'question_type': 'normal',\n",
       "  'created': 1486390229,\n",
       "  'updated_time': 1582533957,\n",
       "  'url': 'https://www.zhihu.com/api/v4/questions/55493026',\n",
       "  'relationship': {}},\n",
       " 'author': {'id': 'e8c4768eaa41e3749f7e8bc5ac6aa74b',\n",
       "  'url_token': 'Lanyuneet',\n",
       "  'name': 'Slumbers',\n",
       "  'avatar_url': 'https://pic4.zhimg.com/v2-f950cfef511d33500177be90030dcd3d_l.jpg?source=1940ef5c',\n",
       "  'avatar_url_template': 'https://pic3.zhimg.com/v2-f950cfef511d33500177be90030dcd3d.jpg?source=1940ef5c',\n",
       "  'is_org': False,\n",
       "  'type': 'people',\n",
       "  'url': 'https://www.zhihu.com/api/v4/people/e8c4768eaa41e3749f7e8bc5ac6aa74b',\n",
       "  'user_type': 'people',\n",
       "  'headline': '算法工程师',\n",
       "  'badge': [],\n",
       "  'badge_v2': {'title': '',\n",
       "   'merged_badges': [],\n",
       "   'detail_badges': [],\n",
       "   'icon': '',\n",
       "   'night_icon': ''},\n",
       "  'gender': 0,\n",
       "  'is_advertiser': False,\n",
       "  'is_privacy': False},\n",
       " 'url': 'https://www.zhihu.com/api/v4/answers/637938925',\n",
       " 'is_collapsed': False,\n",
       " 'created_time': 1554085028,\n",
       " 'updated_time': 1558451618,\n",
       " 'extras': '',\n",
       " 'is_copyable': True,\n",
       " 'relationship': {'upvoted_followees': []},\n",
       " 'ad_answer': None}"
      ]
     },
     "execution_count": 22,
     "metadata": {},
     "output_type": "execute_result"
    }
   ],
   "source": [
    "data['data'][0]"
   ]
  },
  {
   "cell_type": "code",
   "execution_count": 24,
   "metadata": {},
   "outputs": [
    {
     "data": {
      "text/plain": [
       "time.struct_time(tm_year=2019, tm_mon=4, tm_mday=1, tm_hour=10, tm_min=17, tm_sec=8, tm_wday=0, tm_yday=91, tm_isdst=0)"
      ]
     },
     "execution_count": 24,
     "metadata": {},
     "output_type": "execute_result"
    }
   ],
   "source": [
    "time.localtime(data['data'][0]['created_time'])"
   ]
  },
  {
   "cell_type": "markdown",
   "metadata": {},
   "source": [
    "ANS: 2019/4/1 10:17:08 Monday, 91 days had passed."
   ]
  },
  {
   "cell_type": "code",
   "execution_count": 23,
   "metadata": {},
   "outputs": [
    {
     "data": {
      "text/plain": [
       "{'id': 873825546,\n",
       " 'type': 'answer',\n",
       " 'answer_type': 'normal',\n",
       " 'question': {'type': 'question',\n",
       "  'id': 55493026,\n",
       "  'title': '你们都是怎么学 Python 的？',\n",
       "  'question_type': 'normal',\n",
       "  'created': 1486390229,\n",
       "  'updated_time': 1582533957,\n",
       "  'url': 'https://www.zhihu.com/api/v4/questions/55493026',\n",
       "  'relationship': {}},\n",
       " 'author': {'id': '4d1c2c77bc7431c2a6006d154198e8b9',\n",
       "  'url_token': 'ji-de-yao-xing-fu',\n",
       "  'name': '痴海',\n",
       "  'avatar_url': 'https://pic2.zhimg.com/v2-e8b4f9dff1e3c3170185584c925d388a_l.jpg?source=1940ef5c',\n",
       "  'avatar_url_template': 'https://pic1.zhimg.com/v2-e8b4f9dff1e3c3170185584c925d388a.jpg?source=1940ef5c',\n",
       "  'is_org': False,\n",
       "  'type': 'people',\n",
       "  'url': 'https://www.zhihu.com/api/v4/people/4d1c2c77bc7431c2a6006d154198e8b9',\n",
       "  'user_type': 'people',\n",
       "  'headline': '公众号痴海：每周一篇干货文',\n",
       "  'badge': [],\n",
       "  'badge_v2': {'title': '',\n",
       "   'merged_badges': [],\n",
       "   'detail_badges': [],\n",
       "   'icon': '',\n",
       "   'night_icon': ''},\n",
       "  'gender': 1,\n",
       "  'is_advertiser': False,\n",
       "  'is_privacy': False},\n",
       " 'url': 'https://www.zhihu.com/api/v4/answers/873825546',\n",
       " 'is_collapsed': False,\n",
       " 'created_time': 1572318426,\n",
       " 'updated_time': 1600948685,\n",
       " 'extras': '',\n",
       " 'is_copyable': False,\n",
       " 'relationship': {'upvoted_followees': []},\n",
       " 'ad_answer': None}"
      ]
     },
     "execution_count": 23,
     "metadata": {},
     "output_type": "execute_result"
    }
   ],
   "source": [
    "data['data'][-1]"
   ]
  },
  {
   "cell_type": "code",
   "execution_count": 26,
   "metadata": {},
   "outputs": [
    {
     "data": {
      "text/plain": [
       "time.struct_time(tm_year=2019, tm_mon=10, tm_mday=29, tm_hour=11, tm_min=7, tm_sec=6, tm_wday=1, tm_yday=302, tm_isdst=0)"
      ]
     },
     "execution_count": 26,
     "metadata": {},
     "output_type": "execute_result"
    }
   ],
   "source": [
    "time.localtime(data['data'][-1]['created_time'])"
   ]
  },
  {
   "cell_type": "markdown",
   "metadata": {},
   "source": [
    "ANS: 2019/10/29 11:07:06 Tuesday, 302 days had passed."
   ]
  }
 ],
 "metadata": {
  "kernelspec": {
   "display_name": "Python 3",
   "language": "python",
   "name": "python3"
  },
  "language_info": {
   "codemirror_mode": {
    "name": "ipython",
    "version": 3
   },
   "file_extension": ".py",
   "mimetype": "text/x-python",
   "name": "python",
   "nbconvert_exporter": "python",
   "pygments_lexer": "ipython3",
   "version": "3.8.3"
  }
 },
 "nbformat": 4,
 "nbformat_minor": 2
}
