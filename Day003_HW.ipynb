{
 "cells": [
  {
   "cell_type": "markdown",
   "metadata": {},
   "source": [
    "# Python 下載XML檔案與解析\n",
    "\n",
    "\n",
    "* 了解 xml 檔案格式與內容\n",
    "* 能夠利用套件存取 xml 格式的檔案\n"
   ]
  },
  {
   "cell_type": "markdown",
   "metadata": {},
   "source": [
    "## 作業目標\n",
    "\n",
    "* 比較一下範例檔案中的「File I/O」與「xmltodict」讀出來的內容有什麼差異\n",
    "\n",
    "* 根據範例檔案的結果：\n",
    "    1. 請問高雄市有多少地區有溫度資料？\n",
    "    2. 請取出每一個地區所記錄的第一個時間點跟溫度\n",
    "    3. 請取出第一個地區所記錄的每一個時間點跟溫度"
   ]
  },
  {
   "cell_type": "markdown",
   "metadata": {},
   "source": [
    "### 比較一下範例檔案中的「File I/O」與「xmltodict」讀出來的內容有什麼差異\n"
   ]
  },
  {
   "cell_type": "markdown",
   "metadata": {},
   "source": [
    "File I/O：\n",
    "str\n",
    "xmltodict：\n",
    "dict"
   ]
  },
  {
   "cell_type": "markdown",
   "metadata": {},
   "source": [
    "### 根據範例檔案的結果：\n",
    "\n",
    "1. 請問高雄市有多少地區有溫度資料？\n",
    "2. 請取出每一個地區所記錄的第一個時間點跟溫度\n",
    "3. 請取出第一個地區所記錄的每一個時間點跟溫度"
   ]
  },
  {
   "cell_type": "code",
   "execution_count": 30,
   "metadata": {},
   "outputs": [
    {
     "name": "stdout",
     "output_type": "stream",
     "text": [
      "鹽埕區\n",
      "鼓山區\n",
      "左營區\n",
      "楠梓區\n",
      "三民區\n",
      "新興區\n",
      "前金區\n",
      "苓雅區\n",
      "前鎮區\n",
      "旗津區\n",
      "小港區\n",
      "鳳山區\n",
      "林園區\n",
      "大寮區\n",
      "大樹區\n",
      "大社區\n",
      "仁武區\n",
      "鳥松區\n",
      "岡山區\n",
      "橋頭區\n",
      "燕巢區\n",
      "田寮區\n",
      "阿蓮區\n",
      "路竹區\n",
      "湖內區\n",
      "茄萣區\n",
      "永安區\n",
      "彌陀區\n",
      "梓官區\n",
      "旗山區\n",
      "美濃區\n",
      "六龜區\n",
      "甲仙區\n",
      "杉林區\n",
      "內門區\n",
      "茂林區\n",
      "桃源區\n",
      "那瑪夏區\n",
      "38\n"
     ]
    }
   ],
   "source": [
    "# 1. 請問高雄市有多少地區有溫度資料？\n",
    "import xmltodict\n",
    "with open(\"./data/64_72hr_CH.xml\",\"r\",encoding=\"utf-8\") as fh:\n",
    "    xml=dict(xmltodict.parse(fh.read()))\n",
    "for i in range(len(xml['cwbopendata']['dataset']['locations']['location'])):\n",
    "    print(xml['cwbopendata']['dataset']['locations']['location'][i]['locationName'])\n",
    "print(len(xml['cwbopendata']['dataset']['locations']['location']))\n",
    "#print(xml['cwbopendata']['dataset']['locations']['location'][0]['locationName'])\n",
    "#type(xml['cwbopendata']['dataset']['locations']['location'])"
   ]
  },
  {
   "cell_type": "code",
   "execution_count": 69,
   "metadata": {},
   "outputs": [
    {
     "name": "stdout",
     "output_type": "stream",
     "text": [
      "鹽埕區\n",
      "2020-09-22T18:00:00+08:00\n",
      "攝氏30度\n",
      "鼓山區\n",
      "2020-09-22T18:00:00+08:00\n",
      "攝氏30度\n",
      "左營區\n",
      "2020-09-22T18:00:00+08:00\n",
      "攝氏30度\n",
      "楠梓區\n",
      "2020-09-22T18:00:00+08:00\n",
      "攝氏30度\n",
      "三民區\n",
      "2020-09-22T18:00:00+08:00\n",
      "攝氏30度\n",
      "新興區\n",
      "2020-09-22T18:00:00+08:00\n",
      "攝氏30度\n",
      "前金區\n",
      "2020-09-22T18:00:00+08:00\n",
      "攝氏30度\n",
      "苓雅區\n",
      "2020-09-22T18:00:00+08:00\n",
      "攝氏30度\n",
      "前鎮區\n",
      "2020-09-22T18:00:00+08:00\n",
      "攝氏30度\n",
      "旗津區\n",
      "2020-09-22T18:00:00+08:00\n",
      "攝氏30度\n",
      "小港區\n",
      "2020-09-22T18:00:00+08:00\n",
      "攝氏30度\n",
      "鳳山區\n",
      "2020-09-22T18:00:00+08:00\n",
      "攝氏30度\n",
      "林園區\n",
      "2020-09-22T18:00:00+08:00\n",
      "攝氏30度\n",
      "大寮區\n",
      "2020-09-22T18:00:00+08:00\n",
      "攝氏30度\n",
      "大樹區\n",
      "2020-09-22T18:00:00+08:00\n",
      "攝氏29度\n",
      "大社區\n",
      "2020-09-22T18:00:00+08:00\n",
      "攝氏30度\n",
      "仁武區\n",
      "2020-09-22T18:00:00+08:00\n",
      "攝氏30度\n",
      "鳥松區\n",
      "2020-09-22T18:00:00+08:00\n",
      "攝氏30度\n",
      "岡山區\n",
      "2020-09-22T18:00:00+08:00\n",
      "攝氏30度\n",
      "橋頭區\n",
      "2020-09-22T18:00:00+08:00\n",
      "攝氏30度\n",
      "燕巢區\n",
      "2020-09-22T18:00:00+08:00\n",
      "攝氏29度\n",
      "田寮區\n",
      "2020-09-22T18:00:00+08:00\n",
      "攝氏28度\n",
      "阿蓮區\n",
      "2020-09-22T18:00:00+08:00\n",
      "攝氏29度\n",
      "路竹區\n",
      "2020-09-22T18:00:00+08:00\n",
      "攝氏30度\n",
      "湖內區\n",
      "2020-09-22T18:00:00+08:00\n",
      "攝氏29度\n",
      "茄萣區\n",
      "2020-09-22T18:00:00+08:00\n",
      "攝氏29度\n",
      "永安區\n",
      "2020-09-22T18:00:00+08:00\n",
      "攝氏29度\n",
      "彌陀區\n",
      "2020-09-22T18:00:00+08:00\n",
      "攝氏29度\n",
      "梓官區\n",
      "2020-09-22T18:00:00+08:00\n",
      "攝氏30度\n",
      "旗山區\n",
      "2020-09-22T18:00:00+08:00\n",
      "攝氏28度\n",
      "美濃區\n",
      "2020-09-22T18:00:00+08:00\n",
      "攝氏28度\n",
      "六龜區\n",
      "2020-09-22T18:00:00+08:00\n",
      "攝氏27度\n",
      "甲仙區\n",
      "2020-09-22T18:00:00+08:00\n",
      "攝氏26度\n",
      "杉林區\n",
      "2020-09-22T18:00:00+08:00\n",
      "攝氏28度\n",
      "內門區\n",
      "2020-09-22T18:00:00+08:00\n",
      "攝氏27度\n",
      "茂林區\n",
      "2020-09-22T18:00:00+08:00\n",
      "攝氏27度\n",
      "桃源區\n",
      "2020-09-22T18:00:00+08:00\n",
      "攝氏25度\n",
      "那瑪夏區\n",
      "2020-09-22T18:00:00+08:00\n",
      "攝氏23度\n"
     ]
    }
   ],
   "source": [
    "# 2. 請取出每一個地區所記錄的第一個時間點跟溫度\n",
    "with open(\"./data/64_72hr_CH.xml\",\"r\",encoding=\"utf-8\") as fh:\n",
    "    xml=dict(xmltodict.parse(fh.read()))\n",
    "location=xml['cwbopendata']['dataset']['locations']['location']\n",
    "for i in range(len(location)):\n",
    "    print(location[i]['locationName'])\n",
    "    print(location[i]['weatherElement'][0]['time'][0]['dataTime'])\n",
    "    print('攝氏'+location[i]['weatherElement'][0]['time'][0]['elementValue']['value']+'度')\n",
    "#print(xml['cwbopendata']['dataset']['locations']['location'][0]['weatherElement'][0]['time'][0]['dataTime'])"
   ]
  },
  {
   "cell_type": "code",
   "execution_count": 80,
   "metadata": {},
   "outputs": [
    {
     "name": "stdout",
     "output_type": "stream",
     "text": [
      "鹽埕區\n",
      "2020-09-22T18:00:00+08:00\n",
      "攝氏30度\n",
      "2020-09-22T21:00:00+08:00\n",
      "攝氏29度\n",
      "2020-09-23T00:00:00+08:00\n",
      "攝氏29度\n",
      "2020-09-23T03:00:00+08:00\n",
      "攝氏28度\n",
      "2020-09-23T06:00:00+08:00\n",
      "攝氏28度\n",
      "2020-09-23T09:00:00+08:00\n",
      "攝氏30度\n",
      "2020-09-23T12:00:00+08:00\n",
      "攝氏32度\n",
      "2020-09-23T15:00:00+08:00\n",
      "攝氏32度\n",
      "2020-09-23T18:00:00+08:00\n",
      "攝氏30度\n",
      "2020-09-23T21:00:00+08:00\n",
      "攝氏29度\n",
      "2020-09-24T00:00:00+08:00\n",
      "攝氏29度\n",
      "2020-09-24T03:00:00+08:00\n",
      "攝氏28度\n",
      "2020-09-24T06:00:00+08:00\n",
      "攝氏28度\n",
      "2020-09-24T09:00:00+08:00\n",
      "攝氏30度\n",
      "2020-09-24T12:00:00+08:00\n",
      "攝氏32度\n",
      "2020-09-24T15:00:00+08:00\n",
      "攝氏32度\n",
      "2020-09-24T18:00:00+08:00\n",
      "攝氏30度\n",
      "2020-09-24T21:00:00+08:00\n",
      "攝氏29度\n",
      "2020-09-25T00:00:00+08:00\n",
      "攝氏28度\n",
      "2020-09-25T03:00:00+08:00\n",
      "攝氏28度\n",
      "2020-09-25T06:00:00+08:00\n",
      "攝氏27度\n",
      "2020-09-25T09:00:00+08:00\n",
      "攝氏29度\n",
      "2020-09-25T12:00:00+08:00\n",
      "攝氏31度\n",
      "2020-09-25T15:00:00+08:00\n",
      "攝氏31度\n"
     ]
    }
   ],
   "source": [
    "# 3. 請取出第一個地區所記錄的每一個時間點跟溫度\n",
    "with open(\"./data/64_72hr_CH.xml\",\"r\",encoding=\"utf-8\") as fh:\n",
    "    xml=dict(xmltodict.parse(fh.read()))\n",
    "firstlocation=xml['cwbopendata']['dataset']['locations']['location'][0]\n",
    "print(firstlocation['locationName'])\n",
    "for i in range(len(firstlocation['weatherElement'][0]['time'])):\n",
    "    print(firstlocation['weatherElement'][0]['time'][i]['dataTime'])\n",
    "    print('攝氏'+firstlocation['weatherElement'][0]['time'][i]['elementValue']['value']+'度')\n",
    "#type(xml['cwbopendata']['dataset']['locations']['location'][0]['weatherElement'])\n",
    "#print(xml['cwbopendata']['dataset']['locations']['location'][0]['weatherElement'][0]['time'][1]['dataTime'])"
   ]
  },
  {
   "cell_type": "code",
   "execution_count": 5,
   "metadata": {
    "scrolled": true
   },
   "outputs": [
    {
     "data": {
      "text/plain": [
       "str"
      ]
     },
     "execution_count": 5,
     "metadata": {},
     "output_type": "execute_result"
    }
   ],
   "source": [
    "fh = open(\"./data/64_72hr_CH.xml\", \"r\",encoding=\"utf-8\")\n",
    "xml = fh.read()\n",
    "fh.close()\n",
    "\n",
    "#print(xml)\n",
    "type(xml)"
   ]
  },
  {
   "cell_type": "code",
   "execution_count": 6,
   "metadata": {},
   "outputs": [
    {
     "data": {
      "text/plain": [
       "dict"
      ]
     },
     "execution_count": 6,
     "metadata": {},
     "output_type": "execute_result"
    }
   ],
   "source": [
    "import xmltodict\n",
    "with open(\"./data/64_72hr_CH.xml\",\"r\",encoding=\"utf-8\") as fh:\n",
    "    xml=dict(xmltodict.parse(fh.read()))\n",
    "type(xml)"
   ]
  },
  {
   "cell_type": "code",
   "execution_count": null,
   "metadata": {},
   "outputs": [],
   "source": []
  }
 ],
 "metadata": {
  "kernelspec": {
   "display_name": "Python 3",
   "language": "python",
   "name": "python3"
  },
  "language_info": {
   "codemirror_mode": {
    "name": "ipython",
    "version": 3
   },
   "file_extension": ".py",
   "mimetype": "text/x-python",
   "name": "python",
   "nbconvert_exporter": "python",
   "pygments_lexer": "ipython3",
   "version": "3.6.4"
  }
 },
 "nbformat": 4,
 "nbformat_minor": 2
}
