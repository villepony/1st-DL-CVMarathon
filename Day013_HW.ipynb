{
 "cells": [
  {
   "cell_type": "markdown",
   "metadata": {},
   "source": [
    "# PTT 網路爬蟲實作練習\n",
    "\n",
    "\n",
    "* 能夠利用 Request + BeatifulSour 撰寫爬蟲，並存放到合適的資料結構\n"
   ]
  },
  {
   "cell_type": "markdown",
   "metadata": {},
   "source": [
    "## 作業目標\n",
    "\n",
    "根據範例 ，完成以下問題：\n",
    "\n",
    "* ① 印出最新文章的「作者」「標題」「時間」\n",
    "* ② 印出第一頁所有文章的「作者」「標題」「時間」\n"
   ]
  },
  {
   "cell_type": "markdown",
   "metadata": {},
   "source": [
    "### ① 印出最新文章的「作者」「標題」「時間」"
   ]
  },
  {
   "cell_type": "code",
   "execution_count": 3,
   "metadata": {},
   "outputs": [
    {
     "name": "stdout",
     "output_type": "stream",
     "text": [
      "[花邊] 意有所指？Harrell更新INS曬自拍並配文\n",
      "作者: fack3170 (法克)\n",
      "時間: Sat Oct  3 18:16:55 2020\n",
      "(本文已被刪除) [scottaa]\n",
      "[公告] 板規v6.8\n",
      "[公告] 第一次被退文，可在三天後刪除退文\n",
      "作者: Vedan (味丹)\n",
      "時間: Mon Mar  9 11:44:26 2020\n",
      "[公告] 8/15實施季後賽條款 以及提醒事項(發P) \n",
      "作者: namie810303 (爽喔!! 你看看你)\n",
      "時間: Thu Aug 13 23:21:08 2020\n",
      "[情報] Playoffs Schedule 19–20\n",
      "作者: Acetoxy (阿斯)\n",
      "時間: Tue Aug 18 04:10:40 2020\n"
     ]
    }
   ],
   "source": [
    "import requests\n",
    "from bs4 import BeautifulSoup\n",
    "\n",
    "url = 'https://www.ptt.cc/bbs/NBA/index.html'\n",
    "r = requests.get(url)\n",
    "soup = BeautifulSoup(r.text, \"html5lib\")\n",
    "\n",
    "for d in soup.find_all(class_=\"title\"):\n",
    "    print(d.text.replace('\\t', '').replace('\\n', ''))\n",
    "    try:\n",
    "        fr = BeautifulSoup(requests.get('https://www.ptt.cc'+d.find('a')['href']).text, \"html5lib\")\n",
    "        print('作者: ' + fr.find_all(class_='article-meta-value')[0].text)\n",
    "        print('時間: ' + fr.find_all(class_='article-meta-value')[3].text)\n",
    "    except:\n",
    "        continue"
   ]
  },
  {
   "cell_type": "markdown",
   "metadata": {},
   "source": [
    "### ② 印出第一頁所有文章的「作者」「標題」「時間」"
   ]
  },
  {
   "cell_type": "code",
   "execution_count": 4,
   "metadata": {},
   "outputs": [
    {
     "name": "stdout",
     "output_type": "stream",
     "text": [
      "[轉錄]Lyotard 對於太陽板討論串的結論\n",
      "作者: Price (Price)\n",
      "時間: Sun May 16 01:54:33 2004\n",
      "[公告] 請停止一切關於本次活動的發言\n",
      "作者: Price (Price)\n",
      "時間: Mon May 24 00:43:00 2004\n",
      "[轉錄]跟之前那篇比起來 我覺得這篇也應該轉過來\n",
      "作者: Frankaze (神采風華)\n",
      "時間: Tue Jun  8 01:16:45 2004\n",
      "[轉錄]再轉一篇好文來\n",
      "作者: Frankaze (神采風華)\n",
      "時間: Tue Jun  8 09:02:23 2004\n",
      "[轉錄][情報] 夏洛特山貓系列\n",
      "作者: Price (Price)\n",
      "時間: Thu Jun 10 00:39:35 2004\n",
      "[轉錄]Re: [心得] 真是受不了糗爺....\n",
      "作者: Price (Price)\n",
      "時間: Thu Jun 10 00:51:35 2004\n",
      "[轉錄]總冠軍賽NO.2觀後感\n",
      "作者: Price (Price)\n",
      "時間: Thu Jun 10 12:05:07 2004\n",
      "[心得] Rasheed Wallace\n",
      "作者: AmuroNamie (原來太嗨真的會失眠^___^)\n",
      "時間: Fri Jun 11 15:06:09 2004\n",
      "掌控球賽的男人\n",
      "作者: toptree (  )\n",
      "時間: Sat Jun 12 07:13:04 2004\n",
      "[閒聊] 說說2004季後賽名場面回顧\n",
      "作者: skchang (3EB板開板囉！)\n",
      "時間: Sat Jun 12 13:21:49 2004\n",
      "[心得] 其實說穿了 就是活塞的防守太可怕了\n",
      "作者: shineup ()\n",
      "時間: Sat Jun 12 13:12:47 2004\n",
      "Re: [閒聊] 說說2004季後賽名場面回顧\n",
      "作者: cOvi (喵~)\n",
      "時間: Sat Jun 12 16:43:07 2004\n",
      "Re: [閒聊] 說說2004季後賽名場面回顧\n",
      "作者: ykshih (￼N￼Ns)\n",
      "時間: Sat Jun 12 17:26:37 2004\n",
      "Re: [閒聊] 說說2004季後賽名場面回顧\n",
      "作者: Frankaze (神采風華)\n",
      "時間: Sat Jun 12 18:34:46 2004\n",
      "[轉錄]Re: 總冠軍賽NO.3觀後感\n",
      "作者: Price (Price)\n",
      "時間: Mon Jun 14 02:18:52 2004\n",
      "[轉錄]Re: 總冠軍賽NO.3觀後感\n",
      "作者: Frankaze (神采風華)\n",
      "時間: Mon Jun 14 02:34:33 2004\n",
      "Re: [轉錄]Re: 總冠軍賽NO.3觀後感\n",
      "作者: star1 (第一次魔術表演不算成功)\n",
      "時間: Mon Jun 14 07:16:30 2004\n",
      "Re: [轉錄]Re: 總冠軍賽NO.3觀後感\n",
      "作者: coldspring (笑笑)\n",
      "時間: Mon Jun 14 09:24:57 2004\n",
      "Re: Kobe is frustrated...\n",
      "作者: airbear (地圖)\n",
      "時間: Mon Jun 14 12:56:14 2004\n",
      "Re: [轉錄]Re: 總冠軍賽NO.3觀後感\n",
      "作者: pennykidd (andre)\n",
      "時間: Mon Jun 14 22:07:01 2004\n"
     ]
    }
   ],
   "source": [
    "url = 'https://www.ptt.cc/bbs/NBA/index1.html'\n",
    "r = requests.get(url)\n",
    "soup = BeautifulSoup(r.text, \"html5lib\")\n",
    "\n",
    "for d in soup.find_all(class_=\"title\"):\n",
    "    print(d.text.replace('\\t', '').replace('\\n', ''))\n",
    "    try:\n",
    "        fr = BeautifulSoup(requests.get('https://www.ptt.cc'+d.find('a')['href']).text, \"html5lib\")\n",
    "        print('作者: ' + fr.find_all(class_='article-meta-value')[0].text)\n",
    "        print('時間: ' + fr.find_all(class_='article-meta-value')[3].text)\n",
    "    except:\n",
    "        continue"
   ]
  },
  {
   "cell_type": "markdown",
   "metadata": {},
   "source": [
    "### ③ 試著爬爬看其他版的文章"
   ]
  },
  {
   "cell_type": "code",
   "execution_count": 5,
   "metadata": {},
   "outputs": [
    {
     "name": "stdout",
     "output_type": "stream",
     "text": [
      "[請益] 為什麼航運、觀光類股沒雪崩下滑?\n",
      "作者: GODLP (神鳥鳳凰)\n",
      "時間: Sat Oct  3 08:54:33 2020\n",
      "Re: [請益] 為什麼航運、觀光類股沒雪崩下滑?\n",
      "作者: lucifax (虎爺:犬科動物給我滾開)\n",
      "時間: Sat Oct  3 09:16:54 2020\n",
      "Re: [新聞] 川普確診 台股真的要變盤啦！　\n",
      "作者: sendtony6 (遊民)\n",
      "時間: Sat Oct  3 09:21:50 2020\n",
      "[新聞] 即／川普傳呼吸困難！白宮官員爆「入院\n",
      "作者: homura456 (股市反指標)\n",
      "時間: Sat Oct  3 09:52:24 2020\n",
      "[標的] 6670 復盛應用 多\n",
      "作者: linbear1212 (gata)\n",
      "時間: Sat Oct  3 10:59:16 2020\n",
      "Re: [活動] 猜10/02標普收盤賺P幣 美股開盤截止 (重開\n",
      "作者: yoche2000 (九龍塘麵包粉)\n",
      "時間: Sat Oct  3 10:59:14 2020\n",
      "[創作] 上班看股票APP\n",
      "作者: PttTalkers (PttTalker)\n",
      "時間: Sat Oct  3 11:49:36 2020\n",
      "4-2-5(已被BreezeCat刪除) <lynos>\n",
      "4-2-5(已被BreezeCat刪除) <chinaeatshit>\n",
      "[新聞] 最大黑天鵝 撼動全球金融市場\n",
      "作者: hvariables (Speculative Male)\n",
      "時間: Sat Oct  3 12:38:35 2020\n",
      "Re: [新聞] 即／川普傳呼吸困難！白宮官員爆「入院\n",
      "作者: luckylance (我會送給你)\n",
      "時間: Sat Oct  3 12:39:26 2020\n",
      "4-2-1(已被BreezeCat刪除) <giorno78>\n",
      "[新聞] 川普確診轉送軍醫院 接受實驗性藥物治療\n",
      "作者: CavendishJr (伊井野梅西子)\n",
      "時間: Sat Oct  3 15:25:36 2020\n",
      "Re: [新聞] 川普確診轉送軍醫院 接受實驗性藥物治療\n",
      "作者: alanwon (SiuyoFabierre)\n",
      "時間: Sat Oct  3 18:29:27 2020\n",
      "[新聞] 川普住院傳呼吸喘 醫：服「瑞德西韋」控\n",
      "作者: shinewonder (格羅索 靈魂附體 )\n",
      "時間: Sat Oct  3 18:52:05 2020\n",
      "(本文已被刪除) [abramtw]\n",
      "Re: [新聞] 川普確診轉送軍醫院 接受實驗性藥物治療\n",
      "作者: peter080808 (peter)\n",
      "時間: Sat Oct  3 18:58:14 2020\n",
      "[公告] Stock 板規V2.7\n",
      "[公告] Stock 板 開始舉辦樂透!\n",
      "作者: BreezeCat\n",
      "時間: Wed Sep 30 14:29:59 2020\n",
      "[公告] 精華區導覽Q&A\n",
      "作者: IanLi (IanLi)\n",
      "時間: Sun Jan 25 23:18:20 2015\n",
      "[閒聊] 2020/10/02 盤後閒聊\n",
      "作者: BreezeCat (微風)\n",
      "時間: Fri Oct  2 14:18:21 2020\n"
     ]
    }
   ],
   "source": [
    "url = 'https://www.ptt.cc/bbs/Stock/index.html'\n",
    "r = requests.get(url)\n",
    "soup = BeautifulSoup(r.text, \"html5lib\")\n",
    "\n",
    "for d in soup.find_all(class_=\"title\"):\n",
    "    print(d.text.replace('\\t', '').replace('\\n', ''))\n",
    "    try:\n",
    "        fr = BeautifulSoup(requests.get('https://www.ptt.cc'+d.find('a')['href']).text, \"html5lib\")\n",
    "        print('作者: ' + fr.find_all(class_='article-meta-value')[0].text)\n",
    "        print('時間: ' + fr.find_all(class_='article-meta-value')[3].text)\n",
    "    except:\n",
    "        continue"
   ]
  },
  {
   "cell_type": "code",
   "execution_count": null,
   "metadata": {},
   "outputs": [],
   "source": []
  }
 ],
 "metadata": {
  "kernelspec": {
   "display_name": "Python 3",
   "language": "python",
   "name": "python3"
  },
  "language_info": {
   "codemirror_mode": {
    "name": "ipython",
    "version": 3
   },
   "file_extension": ".py",
   "mimetype": "text/x-python",
   "name": "python",
   "nbconvert_exporter": "python",
   "pygments_lexer": "ipython3",
   "version": "3.8.3"
  }
 },
 "nbformat": 4,
 "nbformat_minor": 2
}
