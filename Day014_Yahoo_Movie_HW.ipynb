{
 "cells": [
  {
   "cell_type": "markdown",
   "metadata": {},
   "source": [
    "# YAHOO電影爬蟲練習\n",
    "## 練習爬取電影放映資訊。必須逐步獲取電影的代號、放映地區、放映日期後，再送出查詢給伺服器。"
   ]
  },
  {
   "cell_type": "code",
   "execution_count": 1,
   "metadata": {},
   "outputs": [],
   "source": [
    "import requests\n",
    "import re\n",
    "from bs4 import BeautifulSoup"
   ]
  },
  {
   "cell_type": "markdown",
   "metadata": {},
   "source": [
    "### 先搜尋全部的電影代號(ID)資訊"
   ]
  },
  {
   "cell_type": "code",
   "execution_count": 2,
   "metadata": {
    "scrolled": true
   },
   "outputs": [
    {
     "name": "stdout",
     "output_type": "stream",
     "text": [
      "Movie: 特斯拉, ID: 10942\n",
      "Movie: 解密達文西, ID: 10938\n",
      "Movie: 遺落夢境, ID: 10937\n",
      "Movie: 麻雀放浪記2020, ID: 10928\n",
      "Movie: 交響狂人, ID: 10922\n",
      "Movie: 阿公當家, ID: 10914\n",
      "Movie: 刻在你心底的名字, ID: 10902\n",
      "Movie: 剪刀手愛德華, ID: 10901\n",
      "Movie: 森林特攻隊：大腳ㄚ家族, ID: 10894\n",
      "Movie: 捉魂鏡, ID: 10866\n",
      "Movie: 急先鋒, ID: 10443\n",
      "Movie: 紫羅蘭永恆花園電影版, ID: 10431\n",
      "Movie: 性之劇藥, ID: 10947\n",
      "Movie: 重啟咲良田 前篇, ID: 10943\n",
      "Movie: 叢林拳霸, ID: 10930\n",
      "Movie: 情慾對決, ID: 10929\n",
      "Movie: 殺戮荒村, ID: 10903\n",
      "Movie: 電影哆啦A夢：大雄的新恐龍, ID: 10891\n",
      "Movie: 法蒂瑪的奇蹟, ID: 10882\n",
      "Movie: 太陽之家, ID: 10844\n",
      "Movie: 少女與戰車最終章第2話, ID: 10923\n",
      "Movie: 皮諾丘的奇幻旅程, ID: 10921\n",
      "Movie: 惡之畫, ID: 10913\n",
      "Movie: 寂寞調香師, ID: 10905\n",
      "Movie: 名偵探奶奶, ID: 10893\n",
      "Movie: 重裝救援：全境獵殺, ID: 10892\n",
      "Movie: 整容液, ID: 10889\n",
      "Movie: 消失的情人節, ID: 10870\n",
      "Movie: 鋼琴師, ID: 10862\n",
      "Movie: 麥路人, ID: 10900\n",
      "Movie: 中央車站：數位修復版, ID: 10907\n",
      "Movie: 教會, ID: 10899\n",
      "Movie: 密弒直播, ID: 10888\n",
      "Movie: 特務搞飛機, ID: 10886\n",
      "Movie: 蠟筆小新：激戰！塗鴉王國與差不多四勇者, ID: 10874\n",
      "Movie: 海霧, ID: 10872\n",
      "Movie: 蘿莉破壞王, ID: 10776\n",
      "Movie: 顫役輪迴, ID: 10544\n",
      "Movie: 我是大哥大！！劇場版, ID: 10871\n",
      "Movie: 德州電鋸殺人狂前傳：皮面人, ID: 10847\n",
      "Movie: 花木蘭, ID: 8632\n",
      "Movie: 馗降：粽邪2, ID: 10787\n",
      "Movie: 美麗佳人歐蘭朵, ID: 10876\n",
      "Movie: 蘇州河, ID: 10858\n",
      "Movie: 變種人, ID: 10452\n",
      "Movie: TENET天能, ID: 10433\n",
      "Movie: 初心, ID: 10837\n",
      "Movie: 可不可以，你也剛好喜歡我, ID: 10473\n",
      "Movie: 逃出立法院, ID: 10535\n",
      "Movie: 天劫倒數, ID: 10850\n",
      "Movie: 隱藏的畫家, ID: 10841\n",
      "Movie: 哈囉少女, ID: 10780\n",
      "Movie: 怪胎, ID: 10733\n",
      "Movie: 雙面追緝, ID: 10824\n",
      "Movie: 北海小英雄, ID: 10806\n",
      "Movie: 日間演奏會散場時, ID: 10245\n",
      "Movie: 鋼鐵雨：深潛行動, ID: 10838\n",
      "Movie: 淒厲人僧前傳, ID: 10822\n",
      "Movie: 戀夏時光, ID: 10797\n",
      "Movie: 不丹是教室, ID: 10789\n",
      "Movie: 藍色恐懼：數位修復版, ID: 10775\n",
      "Movie: 打噴嚏, ID: 5350\n",
      "Movie: 角落小夥伴電影版：魔法繪本裡的新朋友, ID: 10647\n",
      "Movie: 死因無可疑, ID: 10755\n",
      "Movie: 破處, ID: 10641\n",
      "Movie: 萬花嬉春, ID: 10748\n",
      "Movie: 福島50英雄, ID: 10726\n",
      "Movie: 玩命Online：雙槍對決, ID: 10659\n",
      "Movie: 天后小助理, ID: 10559\n",
      "Movie: 敢殺就來, ID: 10649\n",
      "Movie: 巴黎寂寞不打烊, ID: 10636\n",
      "Movie: 1/2的魔法, ID: 10505\n",
      "Movie: 海邊走走, ID: 10495\n",
      "Movie: 陪你玩最大, ID: 10602\n",
      "Movie: 無聲革命, ID: 10601\n",
      "Movie: 小魔花, ID: 10068\n",
      "Movie: 極地守護犬, ID: 10383\n",
      "Movie: AI終結戰, ID: 10057\n",
      "Movie: 一首搖滾上月球, ID: 4887\n",
      "Movie: 錢不夠用2, ID: 3026\n"
     ]
    }
   ],
   "source": [
    "# 查看目前上映那些電影，並擷取出其ID資訊\n",
    "url = 'https://movies.yahoo.com.tw/'\n",
    "resp = requests.get(url)\n",
    "resp.encoding = 'utf-8'\n",
    "\n",
    "soup = BeautifulSoup(resp.text, 'lxml')\n",
    "html = soup.find(\"select\", attrs={'name':'movie_id'})\n",
    "movie_item = html.find_all(\"option\", attrs={'data-name':re.compile('.*')})\n",
    "\n",
    "for p in movie_item:\n",
    "    print(\"Movie: %s, ID: %s\" % (p[\"data-name\"], p[\"value\"]))"
   ]
  },
  {
   "cell_type": "code",
   "execution_count": 3,
   "metadata": {
    "scrolled": true
   },
   "outputs": [
    {
     "name": "stdout",
     "output_type": "stream",
     "text": [
      "[<option data-name=\"特斯拉\" value=\"10942\">特斯拉</option>, <option data-name=\"解密達文西\" value=\"10938\">解密達文西</option>, <option data-name=\"遺落夢境\" value=\"10937\">遺落夢境</option>, <option data-name=\"麻雀放浪記2020\" value=\"10928\">麻雀放浪記2020</option>, <option data-name=\"交響狂人\" value=\"10922\">交響狂人</option>, <option data-name=\"阿公當家\" value=\"10914\">阿公當家</option>, <option data-name=\"刻在你心底的名字\" value=\"10902\">刻在你心底的名字</option>, <option data-name=\"剪刀手愛德華\" value=\"10901\">剪刀手愛德華</option>, <option data-name=\"森林特攻隊：大腳ㄚ家族\" value=\"10894\">森林特攻隊：大腳ㄚ家族</option>, <option data-name=\"捉魂鏡\" value=\"10866\">捉魂鏡</option>, <option data-name=\"急先鋒\" value=\"10443\">急先鋒</option>, <option data-name=\"紫羅蘭永恆花園電影版\" value=\"10431\">紫羅蘭永恆花園電影版</option>, <option data-name=\"性之劇藥\" value=\"10947\">性之劇藥</option>, <option data-name=\"重啟咲良田 前篇\" value=\"10943\">重啟咲良田 前篇</option>, <option data-name=\"叢林拳霸\" value=\"10930\">叢林拳霸</option>, <option data-name=\"情慾對決\" value=\"10929\">情慾對決</option>, <option data-name=\"殺戮荒村\" value=\"10903\">殺戮荒村</option>, <option data-name=\"電影哆啦A夢：大雄的新恐龍\" value=\"10891\">電影哆啦A夢：大雄的新恐龍</option>, <option data-name=\"法蒂瑪的奇蹟\" value=\"10882\">法蒂瑪的奇蹟</option>, <option data-name=\"太陽之家\" value=\"10844\">太陽之家</option>, <option data-name=\"少女與戰車最終章第2話\" value=\"10923\">少女與戰車最終章第2話</option>, <option data-name=\"皮諾丘的奇幻旅程\" value=\"10921\">皮諾丘的奇幻旅程</option>, <option data-name=\"惡之畫\" value=\"10913\">惡之畫</option>, <option data-name=\"寂寞調香師\" value=\"10905\">寂寞調香師</option>, <option data-name=\"名偵探奶奶\" value=\"10893\">名偵探奶奶</option>, <option data-name=\"重裝救援：全境獵殺\" value=\"10892\">重裝救援：全境獵殺</option>, <option data-name=\"整容液\" value=\"10889\">整容液</option>, <option data-name=\"消失的情人節\" value=\"10870\">消失的情人節</option>, <option data-name=\"鋼琴師\" value=\"10862\">鋼琴師</option>, <option data-name=\"麥路人\" value=\"10900\">麥路人</option>, <option data-name=\"中央車站：數位修復版\" value=\"10907\">中央車站：數位修復版</option>, <option data-name=\"教會\" value=\"10899\">教會</option>, <option data-name=\"密弒直播\" value=\"10888\">密弒直播</option>, <option data-name=\"特務搞飛機\" value=\"10886\">特務搞飛機</option>, <option data-name=\"蠟筆小新：激戰！塗鴉王國與差不多四勇者\" value=\"10874\">蠟筆小新：激戰！塗鴉王國與差不多四勇者</option>, <option data-name=\"海霧\" value=\"10872\">海霧</option>, <option data-name=\"蘿莉破壞王\" value=\"10776\">蘿莉破壞王</option>, <option data-name=\"顫役輪迴\" value=\"10544\">顫役輪迴</option>, <option data-name=\"我是大哥大！！劇場版\" value=\"10871\">我是大哥大！！劇場版</option>, <option data-name=\"德州電鋸殺人狂前傳：皮面人\" value=\"10847\">德州電鋸殺人狂前傳：皮面人</option>, <option data-name=\"花木蘭\" value=\"8632\">花木蘭</option>, <option data-name=\"馗降：粽邪2\" value=\"10787\">馗降：粽邪2</option>, <option data-name=\"美麗佳人歐蘭朵\" value=\"10876\">美麗佳人歐蘭朵</option>, <option data-name=\"蘇州河\" value=\"10858\">蘇州河</option>, <option data-name=\"變種人\" value=\"10452\">變種人</option>, <option data-name=\"TENET天能\" value=\"10433\">TENET天能</option>, <option data-name=\"初心\" value=\"10837\">初心</option>, <option data-name=\"可不可以，你也剛好喜歡我\" value=\"10473\">可不可以，你也剛好喜歡我</option>, <option data-name=\"逃出立法院\" value=\"10535\">逃出立法院</option>, <option data-name=\"天劫倒數\" value=\"10850\">天劫倒數</option>, <option data-name=\"隱藏的畫家\" value=\"10841\">隱藏的畫家</option>, <option data-name=\"哈囉少女\" value=\"10780\">哈囉少女</option>, <option data-name=\"怪胎\" value=\"10733\">怪胎</option>, <option data-name=\"雙面追緝\" value=\"10824\">雙面追緝</option>, <option data-name=\"北海小英雄\" value=\"10806\">北海小英雄</option>, <option data-name=\"日間演奏會散場時\" value=\"10245\">日間演奏會散場時</option>, <option data-name=\"鋼鐵雨：深潛行動\" value=\"10838\">鋼鐵雨：深潛行動</option>, <option data-name=\"淒厲人僧前傳\" value=\"10822\">淒厲人僧前傳</option>, <option data-name=\"戀夏時光\" value=\"10797\">戀夏時光</option>, <option data-name=\"不丹是教室\" value=\"10789\">不丹是教室</option>, <option data-name=\"藍色恐懼：數位修復版\" value=\"10775\">藍色恐懼：數位修復版</option>, <option data-name=\"打噴嚏\" value=\"5350\">打噴嚏</option>, <option data-name=\"角落小夥伴電影版：魔法繪本裡的新朋友\" value=\"10647\">角落小夥伴電影版：魔法繪本裡的新朋友</option>, <option data-name=\"死因無可疑\" value=\"10755\">死因無可疑</option>, <option data-name=\"破處\" value=\"10641\">破處</option>, <option data-name=\"萬花嬉春\" value=\"10748\">萬花嬉春</option>, <option data-name=\"福島50英雄\" value=\"10726\">福島50英雄</option>, <option data-name=\"玩命Online：雙槍對決\" value=\"10659\">玩命Online：雙槍對決</option>, <option data-name=\"天后小助理\" value=\"10559\">天后小助理</option>, <option data-name=\"敢殺就來\" value=\"10649\">敢殺就來</option>, <option data-name=\"巴黎寂寞不打烊\" value=\"10636\">巴黎寂寞不打烊</option>, <option data-name=\"1/2的魔法\" value=\"10505\">1/2的魔法</option>, <option data-name=\"海邊走走\" value=\"10495\">海邊走走</option>, <option data-name=\"陪你玩最大\" value=\"10602\">陪你玩最大</option>, <option data-name=\"無聲革命\" value=\"10601\">無聲革命</option>, <option data-name=\"小魔花\" value=\"10068\">小魔花</option>, <option data-name=\"極地守護犬\" value=\"10383\">極地守護犬</option>, <option data-name=\"AI終結戰\" value=\"10057\">AI終結戰</option>, <option data-name=\"一首搖滾上月球\" value=\"4887\">一首搖滾上月球</option>, <option data-name=\"錢不夠用2\" value=\"3026\">錢不夠用2</option>]\n",
      "80\n"
     ]
    }
   ],
   "source": [
    "print(movie_item)\n",
    "print(len(movie_item))"
   ]
  },
  {
   "cell_type": "markdown",
   "metadata": {},
   "source": [
    "### 指定你有興趣的電影其ID，然後查詢其放映地區資訊。"
   ]
  },
  {
   "cell_type": "code",
   "execution_count": 4,
   "metadata": {},
   "outputs": [],
   "source": [
    "# 參考前一個步驟中擷取到的ID資訊，並指定ID\n",
    "#Movie: 剪刀手愛德華, ID: 10901\n",
    "movie_id = 10901"
   ]
  },
  {
   "cell_type": "code",
   "execution_count": 5,
   "metadata": {},
   "outputs": [
    {
     "name": "stdout",
     "output_type": "stream",
     "text": [
      "放映地區: 台北市, 代號(area_id): 28\n",
      "放映地區: 桃園, 代號(area_id): 16\n",
      "放映地區: 台南, 代號(area_id): 10\n",
      "放映地區: 高雄, 代號(area_id): 17\n"
     ]
    }
   ],
   "source": [
    "url = 'https://movies.yahoo.com.tw/api/v1/areas_by_movie_theater'\n",
    "payload = {'movie_id':str(movie_id)}\n",
    "\n",
    "# 模擬一個header\n",
    "headers = {\n",
    "    'authority': 'movies.yahoo.com.tw',\n",
    "    'method': 'GET',\n",
    "    'path': '/api/v1/areas_by_movie_theater?movie_id=' + str(movie_id),\n",
    "    'scheme': 'https',\n",
    "    'accept': 'application/json, text/javascript, */*; q=0.01',\n",
    "    'accept-encoding': 'gzip, deflate, br',\n",
    "    'accept-language': 'zh-TW,zh;q=0.9,en-US;q=0.8,en;q=0.7,zh-CN;q=0.6',\n",
    "    'cookie': 'rxx=9s3x2fws06.1g16irnc&v=1; _ga=GA1.3.2056742944.1551651301; GUC=AQEBAQFczFpdm0IfmwSB&s=AQAAACoo4N5D&g=XMsVBw; BX=4hkdk1decm57t&b=3&s=mr; _ga=GA1.4.2056742944.1551651301; nexagesuid=82843256dd234e8e91aa73f2062f8218; browsed_movie=eyJpdiI6IlJXWWtiSWJaZlNGK2MxQnhscnVUYWc9PSIsInZhbHVlIjoiMXRhMmVHRXRIeUNjc1RBWDJzdGYwbnlIQURmWGsrcjJSMzhkbkcraDNJVUNIZEZsbzU3amlFcVZ1NzlmazJrTGpoMjVrbHk1YmpoRENXaHZTOUw1TmI2ZTZVWHdOejZQZm16RmVuMWlHTTJLaTZLVFZZVkFOMDlTd1wvSGltcytJIiwibWFjIjoiZWQ2ZjA4MmVjZmZlYjlmNjJmYmY2NGMyMDI0Njc0NWViYjVkOWE2NDg0N2RhODMxZjBjZDhiMmJhZTc2MDZhYiJ9; avi=eyJpdiI6Im1NeWFJRlVRWDR1endEcGRGUGJUbVE9PSIsInZhbHVlIjoickRpU3JuUytmcGl6cjF5OW0rNU9iZz09IiwibWFjIjoiY2VmY2NkNzZmM2NhNjY5YzlkOTcyNjE5OGEyMzU0NWYxOTdmMDRkMDY3OWNmMmZjOTMxYjc5MjI5N2Q5NGE5MiJ9; cmp=t=1559391030&j=0; _gid=GA1.4.779543841.1559391031; XSRF-TOKEN=eyJpdiI6IkhpS2hGcDRQaHlmWUJmaHdSS2Q2bHc9PSIsInZhbHVlIjoiOUVoNFk4OHI1UUZmUWRtYXhza0MyWjJSTlhlZ3RnT0VGeVJPN2JuczVRMGRFdWt2OUlsamVKeHRobFwvcHBGM0dhU3VyMXNGTHlsb2dVM2l0U1hpUGxBPT0iLCJtYWMiOiJkZWU4YzJhNjAxMTY3MzE4Y2ExNWIxYmE1ZjE1YWZlZTlhOTcyYjc4M2RlZGY4ZWNjZDYyMTA2NGYwZGViMzc2In0%3D; m_s=eyJpdiI6InpsZHZ2Tk1BZ0dxaHhETml1RjBnUXc9PSIsInZhbHVlIjoiSkNGeHUranRoXC85bDFiaDhySTJqNkJRcWdjWUxjeVRJSHVYZ1wvd2d4bWJZUTUrSHVDM0lUcW5KNHdETFZ4T1lieU81OUhzc1VoUXhZcWk0UDZSQXVFdz09IiwibWFjIjoiYmJkMDJkMDhlODIzMzcyMWY4M2NmYWNjNGVlOWRjMDIwZmVmNzAyMjE3Yzg3ZGY3ODBkZWEzZTI4MTI5ZWNmOSJ9; _gat=1; nexagesd=10',\n",
    "    'dnt': '1',\n",
    "    'mv-authorization': '21835b082e15b91a69b3851eec7b31b82ce82afb',\n",
    "    'referer': 'https://movies.yahoo.com.tw/',\n",
    "    'user-agent': 'Mozilla/5.0 (Windows NT 10.0; Win64; x64) AppleWebKit/537.36 (KHTML, like Gecko) Chrome/74.0.3729.169 Safari/537.36',\n",
    "    'x-requested-with': 'XMLHttpRequest',\n",
    "}\n",
    "    \n",
    "resp = requests.get(url, params=payload, headers=headers)\n",
    "#print(resp.json())  # 若有需要，列印出json原始碼\n",
    "\n",
    "# 這裡回傳的格式是JSON格式的資料，要解析JSON擷取資料\n",
    "for p in resp.json():\n",
    "    print('放映地區: {0}, 代號(area_id): {1}'.format(p['title'], p['area_id']))"
   ]
  },
  {
   "cell_type": "markdown",
   "metadata": {},
   "source": [
    "### 指定你想要觀看的放映地區，查詢有上映電影的場次日期"
   ]
  },
  {
   "cell_type": "code",
   "execution_count": 6,
   "metadata": {},
   "outputs": [],
   "source": [
    "# 指定放映地區\n",
    "#放映地區: 台北市, 代號(area_id): 28\n",
    "area_id = 28"
   ]
  },
  {
   "cell_type": "code",
   "execution_count": 7,
   "metadata": {},
   "outputs": [
    {
     "name": "stdout",
     "output_type": "stream",
     "text": [
      "十月 6\n",
      "十月 7\n",
      "十月 8\n",
      "十月 9\n",
      "十月 10\n"
     ]
    }
   ],
   "source": [
    "# 向網站發送請求\n",
    "url = 'https://movies.yahoo.com.tw/movietime_result.html'\n",
    "payload = {'movie_id':str(movie_id), 'area_id':str(area_id)}\n",
    "resp = requests.get(url, params=payload)\n",
    "resp.encoding = 'utf-8'\n",
    "\n",
    "soup = BeautifulSoup(resp.text, 'lxml')\n",
    "movie_date = soup.find_all(\"label\", attrs={'for':re.compile(\"date_[\\d]\")})\n",
    "\n",
    "# 列印播放日期\n",
    "for date in movie_date:\n",
    "    print(\"%s %s\" % (date.p.string, date.h3.string))"
   ]
  },
  {
   "cell_type": "markdown",
   "metadata": {},
   "source": [
    "### 最後指定觀看的日期，查詢並列印出放映的電影院、放映類型(數位、3D、IMAX 3D...)、放映時間等資訊。"
   ]
  },
  {
   "cell_type": "code",
   "execution_count": 8,
   "metadata": {},
   "outputs": [],
   "source": [
    "# 選定要觀看的日期\n",
    "#十月 7\n",
    "date = \"2020-10-07\""
   ]
  },
  {
   "cell_type": "code",
   "execution_count": 9,
   "metadata": {},
   "outputs": [],
   "source": [
    "# 向網站發送請求，獲取上映的電影院及時間資訊\n",
    "url = \"https://movies.yahoo.com.tw/ajax/pc/get_schedule_by_movie\"\n",
    "payload = {'movie_id':str(movie_id),\n",
    "           'date':date,\n",
    "           'area_id':str(area_id),\n",
    "           'theater_id':'',\n",
    "           'datetime':'',\n",
    "           'movie_type_id':''}\n",
    "\n",
    "resp = requests.get(url, params=payload)\n",
    "#print(resp.json()['view'])  # 若有需要，列印出json原始碼\n",
    "\n",
    "soup = BeautifulSoup(resp.json()['view'], 'lxml')\n",
    "html = soup.find_all(\"ul\", attrs={'data-theater_name':re.compile(\".*\")})"
   ]
  },
  {
   "cell_type": "code",
   "execution_count": 10,
   "metadata": {
    "scrolled": true
   },
   "outputs": [
    {
     "name": "stdout",
     "output_type": "stream",
     "text": [
      "<div class=\"pc-movie-schedule-form\">\n",
      "    <div class=\"area_timebox\">\n",
      "   <div class=\"area_title\">台北市</div>\n",
      "      <ul id=\"theater_id_41\" class=\"area_time _c jq_area_time\" data-theater_name=\"台北真善美劇院\" data-theater_url=\"\" data-theater_schedules=\"https://movies.yahoo.com.tw/theater_result.html/id=41\" >\n",
      "       <li class=\"adds\">\n",
      "           <a href=\"https://movies.yahoo.com.tw/theater_result.html/id=41\">台北真善美劇院</a>\n",
      "           <span>02-23312270</span>\n",
      "       </li>\n",
      "                         <li class=\"taps\">\n",
      "                <span class=\"tapR\">數位</span>                           </li>\n",
      "           <li class=\"time _c\">\n",
      "               <div class=\"input_picker jq_input_picker\">\n",
      "                                                                   <input type=\"radio\" name=\"schedule_list\" id=\"74221420\" class=\"gabtn\"\n",
      "                        value=\"2020-10-07 10:30:00\"  data-movie=\"ffa1bff2d5c74d1f91c4b2e863274155\"\n",
      "                        data-cinema=\"f644412efbb811e58858f2128151146f\" data-session=\"95ff8fb42bf94b1ebf7428f480065724\"\n",
      "                        data-date=\"1602000000\" data-time=\"1602037800\"\n",
      "                        data-movie_type=\"數位\"\n",
      "                        data-movie_title=\"剪刀手愛德華\"\n",
      "                        data-movie_date=\"10.07\"\n",
      "                        data-movie_time=\"10:30\"\n",
      "                        data-ga=\"['電影頁_時刻表', '電影頁_時刻表_場次', '剪刀手愛德華']\" data-ezding=\"ezding\"\n",
      "                        />\n",
      "                    <label for=\"74221420\" class=\"select\">10:30</label>\n",
      "                                                                                    <input type=\"radio\" name=\"schedule_list\" id=\"74221421\" class=\"gabtn\"\n",
      "                        value=\"2020-10-07 21:20:00\"  data-movie=\"ffa1bff2d5c74d1f91c4b2e863274155\"\n",
      "                        data-cinema=\"f644412efbb811e58858f2128151146f\" data-session=\"8aa5218b56d44cfc9a45eddbef651db1\"\n",
      "                        data-date=\"1602000000\" data-time=\"1602076800\"\n",
      "                        data-movie_type=\"數位\"\n",
      "                        data-movie_title=\"剪刀手愛德華\"\n",
      "                        data-movie_date=\"10.07\"\n",
      "                        data-movie_time=\"21:20\"\n",
      "                        data-ga=\"['電影頁_時刻表', '電影頁_時刻表_場次', '剪刀手愛德華']\" data-ezding=\"ezding\"\n",
      "                        />\n",
      "                    <label for=\"74221421\" class=\"select\">21:20</label>\n",
      "                                               </div>\n",
      "           </li>\n",
      "          </ul>\n",
      "      <ul id=\"theater_id_45\" class=\"area_time _c jq_area_time\" data-theater_name=\"台北信義威秀影城\" data-theater_url=\"http://www.vscinemas.com.tw/\" data-theater_schedules=\"https://movies.yahoo.com.tw/theater_result.html/id=45\" >\n",
      "       <li class=\"adds\">\n",
      "           <a href=\"https://movies.yahoo.com.tw/theater_result.html/id=45\">台北信義威秀影城</a>\n",
      "           <span>02-87805566</span>\n",
      "       </li>\n",
      "                         <li class=\"taps\">\n",
      "                <span class=\"tapR\">數位</span>                           </li>\n",
      "           <li class=\"time _c\">\n",
      "               <div class=\"input_picker jq_input_picker\">\n",
      "                                                                   <input type=\"radio\" name=\"schedule_list\" id=\"74237231\" class=\"gabtn\"\n",
      "                        value=\"2020-10-07 09:45:00\"  data-movie=\"bad1d3fe9c404e258ae68406c655d419\"\n",
      "                        data-cinema=\"40288eb0050f542401050f554e7e0674\" data-session=\"7416fc3c2d2e43e5ae75653073b49ce0\"\n",
      "                        data-date=\"1602000000\" data-time=\"1602035100\"\n",
      "                        data-movie_type=\"數位\"\n",
      "                        data-movie_title=\"剪刀手愛德華\"\n",
      "                        data-movie_date=\"10.07\"\n",
      "                        data-movie_time=\"09:45\"\n",
      "                        data-ga=\"['電影頁_時刻表', '電影頁_時刻表_場次', '剪刀手愛德華']\" data-ezding=\"ezding\"\n",
      "                        />\n",
      "                    <label for=\"74237231\" class=\"select\">09:45</label>\n",
      "                                                                                    <input type=\"radio\" name=\"schedule_list\" id=\"74237232\" class=\"gabtn\"\n",
      "                        value=\"2020-10-07 16:10:00\"  data-movie=\"bad1d3fe9c404e258ae68406c655d419\"\n",
      "                        data-cinema=\"40288eb0050f542401050f554e7e0674\" data-session=\"291f0d3e807642bb917e3fcce4162787\"\n",
      "                        data-date=\"1602000000\" data-time=\"1602058200\"\n",
      "                        data-movie_type=\"數位\"\n",
      "                        data-movie_title=\"剪刀手愛德華\"\n",
      "                        data-movie_date=\"10.07\"\n",
      "                        data-movie_time=\"16:10\"\n",
      "                        data-ga=\"['電影頁_時刻表', '電影頁_時刻表_場次', '剪刀手愛德華']\" data-ezding=\"ezding\"\n",
      "                        />\n",
      "                    <label for=\"74237232\" class=\"select\">16:10</label>\n",
      "                                                                                    <input type=\"radio\" name=\"schedule_list\" id=\"74237233\" class=\"gabtn\"\n",
      "                        value=\"2020-10-07 21:20:00\"  data-movie=\"bad1d3fe9c404e258ae68406c655d419\"\n",
      "                        data-cinema=\"40288eb0050f542401050f554e7e0674\" data-session=\"31bdc76fe32b4bc18a229456cd57fe94\"\n",
      "                        data-date=\"1602000000\" data-time=\"1602076800\"\n",
      "                        data-movie_type=\"數位\"\n",
      "                        data-movie_title=\"剪刀手愛德華\"\n",
      "                        data-movie_date=\"10.07\"\n",
      "                        data-movie_time=\"21:20\"\n",
      "                        data-ga=\"['電影頁_時刻表', '電影頁_時刻表_場次', '剪刀手愛德華']\" data-ezding=\"ezding\"\n",
      "                        />\n",
      "                    <label for=\"74237233\" class=\"select\">21:20</label>\n",
      "                                               </div>\n",
      "           </li>\n",
      "          </ul>\n",
      "      <ul id=\"theater_id_186\" class=\"area_time _c jq_area_time\" data-theater_name=\"喜樂時代影城南港店\" data-theater_url=\"http://www.centuryasia.com.tw/default.aspx\" data-theater_schedules=\"https://movies.yahoo.com.tw/theater_result.html/id=186\" >\n",
      "       <li class=\"adds\">\n",
      "           <a href=\"https://movies.yahoo.com.tw/theater_result.html/id=186\">喜樂時代影城南港店</a>\n",
      "           <span>02-27888185</span>\n",
      "       </li>\n",
      "                         <li class=\"taps\">\n",
      "                <span class=\"tapR\">數位</span>                           </li>\n",
      "           <li class=\"time _c\">\n",
      "               <div class=\"input_picker jq_input_picker\">\n",
      "                                                                   <input type=\"radio\" name=\"schedule_list\" id=\"74255471\" class=\"gabtn\"\n",
      "                        value=\"2020-10-07 13:00:00\"  data-movie=\"d61caddae4a34c08a090cc67707a9fed\"\n",
      "                        data-cinema=\"40288eb0050f542401050f5681782dc5\" data-session=\"de71fdd3ba6b4bcc9e174a35a452206b\"\n",
      "                        data-date=\"1602000000\" data-time=\"1602046800\"\n",
      "                        data-movie_type=\"數位\"\n",
      "                        data-movie_title=\"剪刀手愛德華\"\n",
      "                        data-movie_date=\"10.07\"\n",
      "                        data-movie_time=\"13:00\"\n",
      "                        data-ga=\"['電影頁_時刻表', '電影頁_時刻表_場次', '剪刀手愛德華']\" data-ezding=\"ezding\"\n",
      "                        />\n",
      "                    <label for=\"74255471\" class=\"select\">13:00</label>\n",
      "                                                                                    <input type=\"radio\" name=\"schedule_list\" id=\"74255472\" class=\"gabtn\"\n",
      "                        value=\"2020-10-07 15:00:00\"  data-movie=\"d61caddae4a34c08a090cc67707a9fed\"\n",
      "                        data-cinema=\"40288eb0050f542401050f5681782dc5\" data-session=\"5ccf21d921a94bbea0f826768bb4a5e5\"\n",
      "                        data-date=\"1602000000\" data-time=\"1602054000\"\n",
      "                        data-movie_type=\"數位\"\n",
      "                        data-movie_title=\"剪刀手愛德華\"\n",
      "                        data-movie_date=\"10.07\"\n",
      "                        data-movie_time=\"15:00\"\n",
      "                        data-ga=\"['電影頁_時刻表', '電影頁_時刻表_場次', '剪刀手愛德華']\" data-ezding=\"ezding\"\n",
      "                        />\n",
      "                    <label for=\"74255472\" class=\"select\">15:00</label>\n",
      "                                                                                    <input type=\"radio\" name=\"schedule_list\" id=\"74255473\" class=\"gabtn\"\n",
      "                        value=\"2020-10-07 19:20:00\"  data-movie=\"d61caddae4a34c08a090cc67707a9fed\"\n",
      "                        data-cinema=\"40288eb0050f542401050f5681782dc5\" data-session=\"89e8f8c236ef40d0bea7653a0a94c281\"\n",
      "                        data-date=\"1602000000\" data-time=\"1602069600\"\n",
      "                        data-movie_type=\"數位\"\n",
      "                        data-movie_title=\"剪刀手愛德華\"\n",
      "                        data-movie_date=\"10.07\"\n",
      "                        data-movie_time=\"19:20\"\n",
      "                        data-ga=\"['電影頁_時刻表', '電影頁_時刻表_場次', '剪刀手愛德華']\" data-ezding=\"ezding\"\n",
      "                        />\n",
      "                    <label for=\"74255473\" class=\"select\">19:20</label>\n",
      "                                               </div>\n",
      "           </li>\n",
      "          </ul>\n",
      "   </div>\n",
      "\n",
      "    <div class=\"booking_modal jq_booking_modal\">\n",
      "    <div class=\"booking_modal_backdrop\"></div>\n",
      "    <!-- 時報訂票 ＆ 有官網訂票 新增 class => no_seats -->\n",
      "    <div class=\"booking_modal_content jq_booking_modal_content\">\n",
      "        <form method=\"get\" action=\"https://movies.yahoo.com.tw/ticket/ezding_ticket\" target=\"_blank\" id=\"form_schedule\">\n",
      "                <div class=\"ezding_ticket_value\">\n",
      "            <input type=\"hidden\" name=\"movie_id\" value=\"\">\n",
      "            <input type=\"hidden\" name=\"cinema_id\" value=\"\">\n",
      "            <input type=\"hidden\" name=\"session_id\" value=\"\">\n",
      "            <input type=\"hidden\" name=\"date\" value=\"\">\n",
      "            <input type=\"hidden\" name=\"time\" value=\"\">\n",
      "            <input type=\"hidden\" name=\"campaign_code\" value=\"yahoopc\">\n",
      "        </div>\n",
      "        <ul class=\"top_infos\">\n",
      "            <li>\n",
      "                <p>片名</p>\n",
      "                <h3 id=\"top_infos_movie\"></h3>\n",
      "            </li>\n",
      "            <li>\n",
      "                <p>影城</p>\n",
      "                <h3 id=\"top_infos_theater\"></h3>\n",
      "            </li>\n",
      "            <li>\n",
      "                <p>日期</p>\n",
      "                <h3 id=\"top_infos_date\"></h3>\n",
      "            </li>\n",
      "            <li>\n",
      "                <p>版本</p>\n",
      "                <h3 id=\"top_infos_movie_type\"></h3>\n",
      "            </li>\n",
      "            <li>\n",
      "                <p>時間</p>\n",
      "                <h3 id=\"top_infos_time\"></h3>\n",
      "            </li>\n",
      "        </ul>\n",
      "        \n",
      "        <div class=\"booking_seats\">\n",
      "            <a href=\"#\" class=\"theater_schedules gabtn\" data-ga=\"['電影頁_時刻表', '電影頁_時刻表_一般戲院_全部電影場次', '']\">全部電影場次</a>\n",
      "            <a href=\"#\" class=\"theater_url gabtn\" data-ga=\"['電影頁_時刻表', '電影頁_時刻表_一般戲院_官網訂票', '']\" target=\"_blank\">官網訂票</a>\n",
      "            <p id=\"no_theater_url\" class=\"no_theater_url\">無提供官網訂票</p>\n",
      "\n",
      "            <p id=\"booking_number\" class=\"booking_number\">人數</p>\n",
      "            <div class=\"booking_seat_group jq_booking_seat_group\">\n",
      "                                    <input type=\"radio\" name=\"tickets\" id=\"seat_1\" value=\"1\" />\n",
      "                    <label for=\"seat_1\">1</label>\n",
      "                                    <input type=\"radio\" name=\"tickets\" id=\"seat_2\" value=\"2\"  checked />\n",
      "                    <label for=\"seat_2\">2</label>\n",
      "                                    <input type=\"radio\" name=\"tickets\" id=\"seat_3\" value=\"3\" />\n",
      "                    <label for=\"seat_3\">3</label>\n",
      "                                    <input type=\"radio\" name=\"tickets\" id=\"seat_4\" value=\"4\" />\n",
      "                    <label for=\"seat_4\">4</label>\n",
      "                                    <input type=\"radio\" name=\"tickets\" id=\"seat_5\" value=\"5\" />\n",
      "                    <label for=\"seat_5\">5</label>\n",
      "                                    <input type=\"radio\" name=\"tickets\" id=\"seat_6\" value=\"6\" />\n",
      "                    <label for=\"seat_6\">6</label>\n",
      "                            </div>\n",
      "            <button type=\"submit\" class=\"action_btn action_booking_btn jq_booking_btn gabtn\" data-ga=\"['電影頁_時刻表', '電影頁_時刻表_一般戲院_選位', '']\">選位</button>\n",
      "            <a href=\"#\" class=\"action_btn action_link jq_booking_link gabtn\" data-ga=\"['電影頁_時刻表', '電影頁_時刻表_時報戲院_官網選位', '']\" target=\"_blank\">官網訂票</a>\n",
      "            <button type=\"button\" class=\"action_btn close jq_close_booking_btn\">關閉</button>\n",
      "        </div>\n",
      "        </form>\n",
      "\n",
      "        <!-- 無官網訂票區塊 -->\n",
      "        <div class=\"no_theater_section\">\n",
      "            <p>無提供官網訂票</p>\n",
      "            <button type=\"button\" class=\"action_btn close jq_close_booking_btn\">關閉</button>\n",
      "        </div>\n",
      "    </div>\n",
      "</div></div>\n"
     ]
    }
   ],
   "source": [
    "print(resp.json()['view'])"
   ]
  },
  {
   "cell_type": "code",
   "execution_count": 11,
   "metadata": {
    "scrolled": true
   },
   "outputs": [
    {
     "name": "stdout",
     "output_type": "stream",
     "text": [
      "[<ul class=\"area_time _c jq_area_time\" data-theater_name=\"台北真善美劇院\" data-theater_schedules=\"https://movies.yahoo.com.tw/theater_result.html/id=41\" data-theater_url=\"\" id=\"theater_id_41\">\n",
      "<li class=\"adds\">\n",
      "<a href=\"https://movies.yahoo.com.tw/theater_result.html/id=41\">台北真善美劇院</a>\n",
      "<span>02-23312270</span>\n",
      "</li>\n",
      "<li class=\"taps\">\n",
      "<span class=\"tapR\">數位</span> </li>\n",
      "<li class=\"time _c\">\n",
      "<div class=\"input_picker jq_input_picker\">\n",
      "<input class=\"gabtn\" data-cinema=\"f644412efbb811e58858f2128151146f\" data-date=\"1602000000\" data-ezding=\"ezding\" data-ga=\"['電影頁_時刻表', '電影頁_時刻表_場次', '剪刀手愛德華']\" data-movie=\"ffa1bff2d5c74d1f91c4b2e863274155\" data-movie_date=\"10.07\" data-movie_time=\"10:30\" data-movie_title=\"剪刀手愛德華\" data-movie_type=\"數位\" data-session=\"95ff8fb42bf94b1ebf7428f480065724\" data-time=\"1602037800\" id=\"74221420\" name=\"schedule_list\" type=\"radio\" value=\"2020-10-07 10:30:00\"/>\n",
      "<label class=\"select\" for=\"74221420\">10:30</label>\n",
      "<input class=\"gabtn\" data-cinema=\"f644412efbb811e58858f2128151146f\" data-date=\"1602000000\" data-ezding=\"ezding\" data-ga=\"['電影頁_時刻表', '電影頁_時刻表_場次', '剪刀手愛德華']\" data-movie=\"ffa1bff2d5c74d1f91c4b2e863274155\" data-movie_date=\"10.07\" data-movie_time=\"21:20\" data-movie_title=\"剪刀手愛德華\" data-movie_type=\"數位\" data-session=\"8aa5218b56d44cfc9a45eddbef651db1\" data-time=\"1602076800\" id=\"74221421\" name=\"schedule_list\" type=\"radio\" value=\"2020-10-07 21:20:00\"/>\n",
      "<label class=\"select\" for=\"74221421\">21:20</label>\n",
      "</div>\n",
      "</li>\n",
      "</ul>, <ul class=\"area_time _c jq_area_time\" data-theater_name=\"台北信義威秀影城\" data-theater_schedules=\"https://movies.yahoo.com.tw/theater_result.html/id=45\" data-theater_url=\"http://www.vscinemas.com.tw/\" id=\"theater_id_45\">\n",
      "<li class=\"adds\">\n",
      "<a href=\"https://movies.yahoo.com.tw/theater_result.html/id=45\">台北信義威秀影城</a>\n",
      "<span>02-87805566</span>\n",
      "</li>\n",
      "<li class=\"taps\">\n",
      "<span class=\"tapR\">數位</span> </li>\n",
      "<li class=\"time _c\">\n",
      "<div class=\"input_picker jq_input_picker\">\n",
      "<input class=\"gabtn\" data-cinema=\"40288eb0050f542401050f554e7e0674\" data-date=\"1602000000\" data-ezding=\"ezding\" data-ga=\"['電影頁_時刻表', '電影頁_時刻表_場次', '剪刀手愛德華']\" data-movie=\"bad1d3fe9c404e258ae68406c655d419\" data-movie_date=\"10.07\" data-movie_time=\"09:45\" data-movie_title=\"剪刀手愛德華\" data-movie_type=\"數位\" data-session=\"7416fc3c2d2e43e5ae75653073b49ce0\" data-time=\"1602035100\" id=\"74237231\" name=\"schedule_list\" type=\"radio\" value=\"2020-10-07 09:45:00\"/>\n",
      "<label class=\"select\" for=\"74237231\">09:45</label>\n",
      "<input class=\"gabtn\" data-cinema=\"40288eb0050f542401050f554e7e0674\" data-date=\"1602000000\" data-ezding=\"ezding\" data-ga=\"['電影頁_時刻表', '電影頁_時刻表_場次', '剪刀手愛德華']\" data-movie=\"bad1d3fe9c404e258ae68406c655d419\" data-movie_date=\"10.07\" data-movie_time=\"16:10\" data-movie_title=\"剪刀手愛德華\" data-movie_type=\"數位\" data-session=\"291f0d3e807642bb917e3fcce4162787\" data-time=\"1602058200\" id=\"74237232\" name=\"schedule_list\" type=\"radio\" value=\"2020-10-07 16:10:00\"/>\n",
      "<label class=\"select\" for=\"74237232\">16:10</label>\n",
      "<input class=\"gabtn\" data-cinema=\"40288eb0050f542401050f554e7e0674\" data-date=\"1602000000\" data-ezding=\"ezding\" data-ga=\"['電影頁_時刻表', '電影頁_時刻表_場次', '剪刀手愛德華']\" data-movie=\"bad1d3fe9c404e258ae68406c655d419\" data-movie_date=\"10.07\" data-movie_time=\"21:20\" data-movie_title=\"剪刀手愛德華\" data-movie_type=\"數位\" data-session=\"31bdc76fe32b4bc18a229456cd57fe94\" data-time=\"1602076800\" id=\"74237233\" name=\"schedule_list\" type=\"radio\" value=\"2020-10-07 21:20:00\"/>\n",
      "<label class=\"select\" for=\"74237233\">21:20</label>\n",
      "</div>\n",
      "</li>\n",
      "</ul>, <ul class=\"area_time _c jq_area_time\" data-theater_name=\"喜樂時代影城南港店\" data-theater_schedules=\"https://movies.yahoo.com.tw/theater_result.html/id=186\" data-theater_url=\"http://www.centuryasia.com.tw/default.aspx\" id=\"theater_id_186\">\n",
      "<li class=\"adds\">\n",
      "<a href=\"https://movies.yahoo.com.tw/theater_result.html/id=186\">喜樂時代影城南港店</a>\n",
      "<span>02-27888185</span>\n",
      "</li>\n",
      "<li class=\"taps\">\n",
      "<span class=\"tapR\">數位</span> </li>\n",
      "<li class=\"time _c\">\n",
      "<div class=\"input_picker jq_input_picker\">\n",
      "<input class=\"gabtn\" data-cinema=\"40288eb0050f542401050f5681782dc5\" data-date=\"1602000000\" data-ezding=\"ezding\" data-ga=\"['電影頁_時刻表', '電影頁_時刻表_場次', '剪刀手愛德華']\" data-movie=\"d61caddae4a34c08a090cc67707a9fed\" data-movie_date=\"10.07\" data-movie_time=\"13:00\" data-movie_title=\"剪刀手愛德華\" data-movie_type=\"數位\" data-session=\"de71fdd3ba6b4bcc9e174a35a452206b\" data-time=\"1602046800\" id=\"74255471\" name=\"schedule_list\" type=\"radio\" value=\"2020-10-07 13:00:00\"/>\n",
      "<label class=\"select\" for=\"74255471\">13:00</label>\n",
      "<input class=\"gabtn\" data-cinema=\"40288eb0050f542401050f5681782dc5\" data-date=\"1602000000\" data-ezding=\"ezding\" data-ga=\"['電影頁_時刻表', '電影頁_時刻表_場次', '剪刀手愛德華']\" data-movie=\"d61caddae4a34c08a090cc67707a9fed\" data-movie_date=\"10.07\" data-movie_time=\"15:00\" data-movie_title=\"剪刀手愛德華\" data-movie_type=\"數位\" data-session=\"5ccf21d921a94bbea0f826768bb4a5e5\" data-time=\"1602054000\" id=\"74255472\" name=\"schedule_list\" type=\"radio\" value=\"2020-10-07 15:00:00\"/>\n",
      "<label class=\"select\" for=\"74255472\">15:00</label>\n",
      "<input class=\"gabtn\" data-cinema=\"40288eb0050f542401050f5681782dc5\" data-date=\"1602000000\" data-ezding=\"ezding\" data-ga=\"['電影頁_時刻表', '電影頁_時刻表_場次', '剪刀手愛德華']\" data-movie=\"d61caddae4a34c08a090cc67707a9fed\" data-movie_date=\"10.07\" data-movie_time=\"19:20\" data-movie_title=\"剪刀手愛德華\" data-movie_type=\"數位\" data-session=\"89e8f8c236ef40d0bea7653a0a94c281\" data-time=\"1602069600\" id=\"74255473\" name=\"schedule_list\" type=\"radio\" value=\"2020-10-07 19:20:00\"/>\n",
      "<label class=\"select\" for=\"74255473\">19:20</label>\n",
      "</div>\n",
      "</li>\n",
      "</ul>]\n"
     ]
    }
   ],
   "source": [
    "print(html)"
   ]
  },
  {
   "cell_type": "code",
   "execution_count": 12,
   "metadata": {},
   "outputs": [
    {
     "name": "stdout",
     "output_type": "stream",
     "text": [
      "3\n"
     ]
    }
   ],
   "source": [
    "print(len(html))"
   ]
  },
  {
   "cell_type": "code",
   "execution_count": 18,
   "metadata": {},
   "outputs": [
    {
     "data": {
      "text/plain": [
       "<ul class=\"area_time _c jq_area_time\" data-theater_name=\"台北真善美劇院\" data-theater_schedules=\"https://movies.yahoo.com.tw/theater_result.html/id=41\" data-theater_url=\"\" id=\"theater_id_41\">\n",
       "<li class=\"adds\">\n",
       "<a href=\"https://movies.yahoo.com.tw/theater_result.html/id=41\">台北真善美劇院</a>\n",
       "<span>02-23312270</span>\n",
       "</li>\n",
       "<li class=\"taps\">\n",
       "<span class=\"tapR\">數位</span> </li>\n",
       "<li class=\"time _c\">\n",
       "<div class=\"input_picker jq_input_picker\">\n",
       "<input class=\"gabtn\" data-cinema=\"f644412efbb811e58858f2128151146f\" data-date=\"1602000000\" data-ezding=\"ezding\" data-ga=\"['電影頁_時刻表', '電影頁_時刻表_場次', '剪刀手愛德華']\" data-movie=\"ffa1bff2d5c74d1f91c4b2e863274155\" data-movie_date=\"10.07\" data-movie_time=\"10:30\" data-movie_title=\"剪刀手愛德華\" data-movie_type=\"數位\" data-session=\"95ff8fb42bf94b1ebf7428f480065724\" data-time=\"1602037800\" id=\"74221420\" name=\"schedule_list\" type=\"radio\" value=\"2020-10-07 10:30:00\"/>\n",
       "<label class=\"select\" for=\"74221420\">10:30</label>\n",
       "<input class=\"gabtn\" data-cinema=\"f644412efbb811e58858f2128151146f\" data-date=\"1602000000\" data-ezding=\"ezding\" data-ga=\"['電影頁_時刻表', '電影頁_時刻表_場次', '剪刀手愛德華']\" data-movie=\"ffa1bff2d5c74d1f91c4b2e863274155\" data-movie_date=\"10.07\" data-movie_time=\"21:20\" data-movie_title=\"剪刀手愛德華\" data-movie_type=\"數位\" data-session=\"8aa5218b56d44cfc9a45eddbef651db1\" data-time=\"1602076800\" id=\"74221421\" name=\"schedule_list\" type=\"radio\" value=\"2020-10-07 21:20:00\"/>\n",
       "<label class=\"select\" for=\"74221421\">21:20</label>\n",
       "</div>\n",
       "</li>\n",
       "</ul>"
      ]
     },
     "execution_count": 18,
     "metadata": {},
     "output_type": "execute_result"
    }
   ],
   "source": [
    "html[0]"
   ]
  },
  {
   "cell_type": "code",
   "execution_count": 16,
   "metadata": {},
   "outputs": [
    {
     "data": {
      "text/plain": [
       "bs4.element.Tag"
      ]
     },
     "execution_count": 16,
     "metadata": {},
     "output_type": "execute_result"
    }
   ],
   "source": [
    "type(html[0])"
   ]
  },
  {
   "cell_type": "code",
   "execution_count": 44,
   "metadata": {},
   "outputs": [
    {
     "name": "stdout",
     "output_type": "stream",
     "text": [
      "<a href=\"https://movies.yahoo.com.tw/theater_result.html/id=41\">台北真善美劇院</a>\n",
      "<div class=\"input_picker jq_input_picker\">\n",
      "<input class=\"gabtn\" data-cinema=\"f644412efbb811e58858f2128151146f\" data-date=\"1602000000\" data-ezding=\"ezding\" data-ga=\"['電影頁_時刻表', '電影頁_時刻表_場次', '剪刀手愛德華']\" data-movie=\"ffa1bff2d5c74d1f91c4b2e863274155\" data-movie_date=\"10.07\" data-movie_time=\"10:30\" data-movie_title=\"剪刀手愛德華\" data-movie_type=\"數位\" data-session=\"95ff8fb42bf94b1ebf7428f480065724\" data-time=\"1602037800\" id=\"74221420\" name=\"schedule_list\" type=\"radio\" value=\"2020-10-07 10:30:00\"/>\n",
      "<label class=\"select\" for=\"74221420\">10:30</label>\n",
      "<input class=\"gabtn\" data-cinema=\"f644412efbb811e58858f2128151146f\" data-date=\"1602000000\" data-ezding=\"ezding\" data-ga=\"['電影頁_時刻表', '電影頁_時刻表_場次', '剪刀手愛德華']\" data-movie=\"ffa1bff2d5c74d1f91c4b2e863274155\" data-movie_date=\"10.07\" data-movie_time=\"21:20\" data-movie_title=\"剪刀手愛德華\" data-movie_type=\"數位\" data-session=\"8aa5218b56d44cfc9a45eddbef651db1\" data-time=\"1602076800\" id=\"74221421\" name=\"schedule_list\" type=\"radio\" value=\"2020-10-07 21:20:00\"/>\n",
      "<label class=\"select\" for=\"74221421\">21:20</label>\n",
      "</div>\n",
      "<label class=\"select\" for=\"74221420\">10:30</label>\n"
     ]
    }
   ],
   "source": [
    "'''\n",
    "  試著從上一步驟回傳的電影院資料中，擷取電影院名稱、影片放映類型以及時間表  \n",
    "  Your code here.\n",
    "'''\n",
    "print(html[0].find('a'))\n",
    "print(html[0].find('div', class_=\"input_picker jq_input_picker\"))\n",
    "print(html[0].find('label'))"
   ]
  },
  {
   "cell_type": "code",
   "execution_count": 49,
   "metadata": {},
   "outputs": [
    {
     "name": "stdout",
     "output_type": "stream",
     "text": [
      "台北真善美劇院\n",
      "data-movie_type=\"數位\"\n",
      "10:30\n",
      "台北信義威秀影城\n",
      "data-movie_type=\"數位\"\n",
      "09:45\n",
      "喜樂時代影城南港店\n",
      "data-movie_type=\"數位\"\n",
      "13:00\n"
     ]
    }
   ],
   "source": [
    "for i in range(len(html)):\n",
    "    print(re.search(re.compile('[\\u4e00-\\u9fa5]+'),str(html[i].find('a'))).group())\n",
    "    print(re.search(re.compile('data-movie_type=\"\\w+\"'),str(html[i].find('input'))).group())\n",
    "    print(html[i].find('label').text)"
   ]
  },
  {
   "cell_type": "code",
   "execution_count": null,
   "metadata": {},
   "outputs": [],
   "source": []
  }
 ],
 "metadata": {
  "kernelspec": {
   "display_name": "Python 3",
   "language": "python",
   "name": "python3"
  },
  "language_info": {
   "codemirror_mode": {
    "name": "ipython",
    "version": 3
   },
   "file_extension": ".py",
   "mimetype": "text/x-python",
   "name": "python",
   "nbconvert_exporter": "python",
   "pygments_lexer": "ipython3",
   "version": "3.8.3"
  }
 },
 "nbformat": 4,
 "nbformat_minor": 2
}
