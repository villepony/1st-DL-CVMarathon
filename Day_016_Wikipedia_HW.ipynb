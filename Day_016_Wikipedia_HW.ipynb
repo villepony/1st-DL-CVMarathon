{
 "cells": [
  {
   "cell_type": "markdown",
   "metadata": {},
   "source": [
    "# Wikipedia爬蟲練習\n",
    "## 範例：練習是從Wikipedia中爬取文章。先定義一個搜尋的關鍵字，擷取該關鍵字詞的文章。"
   ]
  },
  {
   "cell_type": "code",
   "execution_count": 52,
   "metadata": {},
   "outputs": [],
   "source": [
    "import requests\n",
    "import re\n",
    "from bs4 import BeautifulSoup"
   ]
  },
  {
   "cell_type": "markdown",
   "metadata": {},
   "source": [
    "### 先定義一個我們想搜尋的字詞，並將它轉換成UTF-8編碼後的URL"
   ]
  },
  {
   "cell_type": "code",
   "execution_count": 53,
   "metadata": {},
   "outputs": [
    {
     "name": "stdout",
     "output_type": "stream",
     "text": [
      "反切: %E5%8F%8D%E5%88%87\n",
      "/wiki/%E5%8F%8D%E5%88%87\n"
     ]
    }
   ],
   "source": [
    "input_keyword = \"反切\"  # 這裡可以自己定義有興趣的關鍵字\n",
    "\n",
    "utf8_url = repr(input_keyword.encode('UTF-8')).upper()  # 編碼成UTF-8並轉成大寫字元\n",
    "utf8_url = utf8_url.replace(\"\\\\X\", \"%\")                 # 用 '%' 取代 '\\X' \n",
    "print(\"%s: %s\" % (input_keyword, utf8_url[2:-1:1]))     # 擷取中間的編碼結果\n",
    "\n",
    "# 組成Wiki關鍵字搜尋的網址格式\n",
    "root_keyword_link = '/wiki/' + utf8_url[2:-1:1]\n",
    "print(root_keyword_link)"
   ]
  },
  {
   "cell_type": "markdown",
   "metadata": {},
   "source": [
    "### 範例1：送出關鍵字請求後，爬取該關鍵字的文章內容"
   ]
  },
  {
   "cell_type": "code",
   "execution_count": 54,
   "metadata": {
    "scrolled": true
   },
   "outputs": [
    {
     "name": "stdout",
     "output_type": "stream",
     "text": [
      "反切（又稱反語、音反）是中國自古以來漢字（廣義的）注音方法，一般取兩個常用字：前者稱反切上字，取其雙聲之聲母；後者稱反切下字，取其疊韻之韻母和聲調[註 1][1]。反切是中國古代最主要和使用時間最長的注音方法之一。\n",
      "\n",
      "至於反切法之發明有說啟發自西域梵文字[2]，因此狹義上講，規律整齊的反切注音系統是拼音字母系統[3]。\n",
      "\n",
      "在反切法誕生之前，直音法（即是「讀若某」、「如某」等）是常用的字書注音方法。這種方法在東漢之前佔據字書之主流，例如《說文・玉部》：「珣，讀若宣」；《說文・宀部》：「宋，居也，從宀木，讀若送。」等。一般是用一個字注另一個同音字。\n",
      "\n",
      "也因此，直音法的侷限十分明顯：依時空之不同，每個字的發音都存在差異，且一些情況下，使用某字的假借字（如廣韻裡「行」字和「絎」、「胻」字等）或生僻字來注音，有時反而會造成不解[3]。這種情況在其他注音方法出現之後得到了改善，而韻書也常常把多種方法一起使用以追求準確。\n",
      "\n",
      "關於反切法之源起，學界說法不一，但可以確定的是，它出現於佛教傳入中原後的東漢，魏晉開始盛行[註 2][4]。至於誰是第一個使用反切的人，自古以來便無定論，但總結起來不外乎三類：\n",
      "\n",
      "此三類說法在年代上並無太大出入，然而第三種「反切西域說」卻收到了很大的反對。例如以胡以魯為首的人指出，漢代以前所見的「合音」現象，如「不可」為「叵」，「何不」為「盍」，「如是」為「爾」，「而已」為「耳」，「之乎」為「諸」，「者焉」為「旃」等，就可以做為反對的證據。\n",
      "\n",
      "錢大昕說《詩經》已有反切，並且駁斥反切受佛經的影響，「豈古聖賢之智乃出梵僧下耶」，「吾於是知六經之道，大小悉備，後人詹詹之智，早不出聖賢範圍之外也」，但不能因此就否定反切普遍使用與佛教傳入有關[5]。\n",
      "\n",
      "但是雖然合音和反切都是二字得出一音，但是卻有本質的不同。合音完全出於自然，例如是先有「不可」，快讀時自然合音為「叵」，當中並無對字音作出有意識的分析，「不可」也不是為標注「叵」的讀音而出現。而反切則是自覺地分析漢字讀音的結果。\n",
      "\n",
      "反切乃中國第一個有系統、科學化的拼音方法，是古典聲韻學的一大里程碑。它對後世的影響是巨大的且不可否認的。\n",
      "\n",
      "例如《切韻考》云：「蓋有反語，則類聚之即成韻書，此自然之勢也」，言反切是韻書之基礎也。自漢代出現反切以來，大大便利了文人對古籍的學習和在創作，由於當時學術派別與師承之傳統，後來所編排的韻書也各有差異。而以《切韻》為首的韻書打破了這樣的局面，開啟了中國古代語言學的一個新時代[6]。\n",
      "\n",
      "隋唐的反切是研究中古漢語語音系統的基本資料，是漢語音韻學的基礎之一。\n",
      "\n",
      "中國古代因為沒有拼音，所以用兩個漢字來注一個字的音。第一個字（反切上字）注聲母，第二個字（反切下字）注韻母和聲調。例如：𠁁，徒口切。「徒」的聲母為定母，中古擬音[d]，「口」的韻母為侯韻，中古擬音為[əu]，聲調為上聲，故𠁁為定母侯韻上聲，中古擬音為上聲[dəu]。\n",
      "\n",
      "但是古字典的反切只適用於當時的古音，不可單憑古代字典的反切記錄套用於現代音。因爲古音和現代音有較複雜的演變規律，且不同的漢語族語言也有不同的演變。比如上面的𠁁，如果只憑古字典「徒口切」，取「徒」的普通話聲母t，和\"口\"的普通話韻母ou3，推斷為普通話讀做tou3，就錯了。因爲「徒」中古音聲母是全濁音[d]，該聲母的非平聲字按規律在普通話中聲母要演變為清不送氣音d[t]，同時這個中古全濁聲母影響了聲調演變，使中古上聲一律變為普通話去聲，即濁上變去律。所以𠁁的現代普通話讀音是dou4[təu˥˩]。\n",
      "\n",
      "可見按照「上字取聲，下字取韻」的原則，古人或能很準確地讀出一字字音。然而，由於古今音變的關係，古代所製定的反切，到後世已不能再簡單地以「上字取聲，下字取韻調」的原則讀出該字正確讀音。\n",
      "依《廣韻》一書，除了「上字取聲母，下字取韻母」之原則，還有一口訣：「上字辨陰陽[註 3]，下字辨平仄[註 4]」。\n",
      "\n"
     ]
    }
   ],
   "source": [
    "# 模擬封包的標頭\n",
    "headers = {\n",
    "    'authority': 'zh.wikipedia.org',\n",
    "    'method': 'GET',\n",
    "    'path': '/wiki/' + root_keyword_link,\n",
    "    'scheme': 'https',\n",
    "    'accept': 'text/html,application/xhtml+xml,application/xml;q=0.9,image/webp,image/apng,*/*;q=0.8,application/signed-exchange;v=b3',\n",
    "    'accept-encoding': 'gzip, deflate, br',\n",
    "    'accept-language': 'zh-TW,zh;q=0.9,en-US;q=0.8,en;q=0.7,zh-CN;q=0.6',\n",
    "    'cookie': 'GeoIP=TW:TPE:Taipei:25.05:121.53:v4; TBLkisOn=0; mwPhp7Seed=8b8; WMF-Last-Access-Global=04-Jun-2019; WMF-Last-Access=04-Jun-2019',\n",
    "    'dnt': '1',\n",
    "    #'if-modified-since': 'Tue, 04 Jun 2019 12:03:22 GMT',\n",
    "    'referer': 'https://zh.wikipedia.org/wiki/Wikipedia:%E9%A6%96%E9%A1%B5',\n",
    "    'upgrade-insecure-requests': '1',\n",
    "    'user-agent': 'Mozilla/5.0 (Windows NT 10.0; Win64; x64) AppleWebKit/537.36 (KHTML, like Gecko) Chrome/74.0.3729.169 Safari/537.36'\n",
    "}    \n",
    "\n",
    "url = 'https://zh.wikipedia.org' + root_keyword_link  # 組合關鍵字查詢URL\n",
    "resp = requests.get(url, headers=headers)\n",
    "resp.encoding = 'utf-8'\n",
    "\n",
    "html = BeautifulSoup(resp.text, \"lxml\")\n",
    "content = html.find(name='div', attrs={'id':'mw-content-text'}).find_all(name='p')\n",
    "\n",
    "#\n",
    "# 解析回傳資料，並萃取文章內容\n",
    "#\n",
    "for paragraph in content:\n",
    "    print(paragraph.get_text())\n"
   ]
  },
  {
   "cell_type": "code",
   "execution_count": 55,
   "metadata": {
    "scrolled": true
   },
   "outputs": [
    {
     "name": "stdout",
     "output_type": "stream",
     "text": [
      "[<p><b>反切</b>（又稱<b>反語</b>、<b>音反</b>）是中國自古以來<a class=\"mw-redirect\" href=\"/wiki/%E6%BC%A2%E5%AD%97\" title=\"漢字\">漢字</a>（廣義的）<a class=\"mw-redirect\" href=\"/wiki/%E6%A8%99%E9%9F%B3\" title=\"標音\">注音</a>方法，一般取兩個常用字：前者稱<b>反切上字</b>，取其雙聲之<a class=\"mw-redirect\" href=\"/wiki/%E8%81%B2%E6%AF%8D\" title=\"聲母\">聲母</a>；後者稱<b>反切下字</b>，取其疊韻之<a class=\"mw-redirect\" href=\"/wiki/%E9%9F%BB%E6%AF%8D\" title=\"韻母\">韻母</a>和<a href=\"/wiki/%E8%81%B2%E8%AA%BF\" title=\"聲調\">聲調</a><span id=\"noteTag-cite_ref-sup\"><sup class=\"reference\" id=\"cite_ref-1\"><a href=\"#cite_note-1\">[註 1]</a></sup></span><sup class=\"reference\" id=\"cite_ref-2\"><a href=\"#cite_note-2\">[1]</a></sup>。反切是中國古代最主要和使用時間最長的注音方法之一。\n",
      "</p>, <p>至於反切法之發明有說啟發自西域<a class=\"mw-redirect\" href=\"/wiki/%E6%A2%B5%E6%96%87\" title=\"梵文\">梵文</a>字<sup class=\"reference\" id=\"cite_ref-3\"><a href=\"#cite_note-3\">[2]</a></sup>，因此狹義上講，規律整齊的反切注音系統是<a class=\"mw-redirect\" href=\"/wiki/%E6%8B%BC%E5%AF%AB%E5%AD%97%E6%AF%8D\" title=\"拼寫字母\">拼音字母</a>系統<sup class=\"reference\" id=\"cite_ref-:0_4-0\"><a href=\"#cite_note-:0-4\">[3]</a></sup>。\n",
      "</p>, <p>在反切法誕生之前，<a href=\"/wiki/%E7%9B%B4%E9%9F%B3%E6%B3%95\" title=\"直音法\">直音法</a>（即是「讀若某」、「如某」等）是常用的字書注音方法。這種方法在東漢之前佔據字書之主流，例如《<a class=\"mw-redirect\" href=\"/wiki/%E8%AA%AA%E6%96%87%E8%A7%A3%E5%AD%97\" title=\"說文解字\">說文</a>・玉部》：「珣，讀若宣」；《<a class=\"mw-redirect\" href=\"/wiki/%E8%AA%AA%E6%96%87%E8%A7%A3%E5%AD%97\" title=\"說文解字\">說文</a>・宀部》：「宋，居也，從宀木，讀若送。」等。一般是用一個字注另一個同音字。\n",
      "</p>, <p>也因此，直音法的侷限十分明顯：依時空之不同，每個字的發音都存在差異，且一些情況下，使用某字的假借字（如廣韻裡「行」字和「絎」、「胻」字等）或<a href=\"/wiki/%E7%94%9F%E5%83%BB%E5%AD%97\" title=\"生僻字\">生僻字</a>來注音，有時反而會造成不解<sup class=\"reference\" id=\"cite_ref-:0_4-1\"><a href=\"#cite_note-:0-4\">[3]</a></sup>。這種情況在其他注音方法出現之後得到了改善，而韻書也常常把多種方法一起使用以追求準確。\n",
      "</p>, <p>關於反切法之源起，學界說法不一，但可以確定的是，它出現於佛教傳入中原後的東漢，魏晉開始盛行<span id=\"noteTag-cite_ref-sup\"><sup class=\"reference\" id=\"cite_ref-5\"><a href=\"#cite_note-5\">[註 2]</a></sup></span><sup class=\"reference\" id=\"cite_ref-6\"><a href=\"#cite_note-6\">[4]</a></sup>。至於誰是第一個使用反切的人，自古以來便無定論，但總結起來不外乎三類：\n",
      "</p>, <p>此三類說法在年代上並無太大出入，然而第三種「反切西域說」卻收到了很大的反對。例如以<a class=\"new\" href=\"/w/index.php?title=%E8%83%A1%E4%BB%A5%E9%AD%AF&amp;action=edit&amp;redlink=1\" title=\"胡以魯（頁面不存在）\">胡以魯</a>為首的人指出，漢代以前所見的「合音」現象，如「不可」為「叵」，「何不」為「盍」，「如是」為「爾」，「而已」為「耳」，「之乎」為「諸」，「者焉」為「旃」等，就可以做為反對的證據。\n",
      "</p>, <p><a href=\"/wiki/%E9%92%B1%E5%A4%A7%E6%98%95\" title=\"錢大昕\">錢大昕</a>說《<a href=\"/wiki/%E8%AF%97%E7%BB%8F\" title=\"詩經\">詩經</a>》已有反切，並且駁斥反切受<a href=\"/wiki/%E4%BD%9B%E7%BB%8F\" title=\"佛經\">佛經</a>的影響，「豈古聖賢之智乃出梵僧下耶」，「吾於是知六經之道，大小悉備，後人詹詹之智，早不出聖賢範圍之外也」，但不能因此就否定反切普遍使用與佛教傳入有關<sup class=\"reference\" id=\"cite_ref-7\"><a href=\"#cite_note-7\">[5]</a></sup>。\n",
      "</p>, <p>但是雖然合音和反切都是二字得出一音，但是卻有本質的不同。合音完全出於自然，例如是先有「不可」，快讀時自然合音為「叵」，當中並無對字音作出有意識的分析，「不可」也不是為標注「叵」的讀音而出現。而反切則是自覺地分析漢字讀音的結果。\n",
      "</p>, <p>反切乃中國第一個有系統、科學化的拼音方法，是古典<a class=\"mw-redirect\" href=\"/wiki/%E8%81%B2%E9%9F%BB%E5%AD%B8\" title=\"聲韻學\">聲韻學</a>的一大里程碑。它對後世的影響是巨大的且不可否認的。\n",
      "</p>, <p>例如《<a href=\"/wiki/%E5%88%87%E9%9F%B5%E8%80%83\" title=\"切韻考\">切韻考</a>》云：「蓋有反語，則類聚之即成韻書，此自然之勢也」，言反切是韻書之基礎也。自漢代出現反切以來，大大便利了文人對古籍的學習和在創作，由於當時學術派別與師承之傳統，後來所編排的韻書也各有差異。而以《<a href=\"/wiki/%E5%88%87%E9%9F%BB\" title=\"切韻\">切韻</a>》為首的韻書打破了這樣的局面，開啟了中國古代語言學的一個新時代<sup class=\"reference\" id=\"cite_ref-8\"><a href=\"#cite_note-8\">[6]</a></sup>。\n",
      "</p>, <p>隋唐的反切是研究<a class=\"mw-redirect\" href=\"/wiki/%E4%B8%AD%E5%8F%A4%E6%BC%A2%E8%AA%9E\" title=\"中古漢語\">中古漢語</a>語音系統的基本資料，是<a class=\"mw-redirect\" href=\"/wiki/%E6%BC%A2%E8%AA%9E%E9%9F%B3%E9%9F%BB%E5%AD%B8\" title=\"漢語音韻學\">漢語音韻學</a>的基礎之一。\n",
      "</p>, <p>中國古代因為沒有拼音，所以用兩個漢字來注一個字的音。第一個字（反切上字）注<a class=\"mw-redirect\" href=\"/wiki/%E8%81%B2%E6%AF%8D\" title=\"聲母\">聲母</a>，第二個字（反切下字）注<a class=\"mw-redirect\" href=\"/wiki/%E9%9F%BB%E6%AF%8D\" title=\"韻母\">韻母</a>和<a href=\"/wiki/%E8%81%B2%E8%AA%BF\" title=\"聲調\">聲調</a>。例如：<b>𠁁，徒口切。</b>「<b>徒</b>」的聲母為<b>定母</b>，中古擬音[d]，「<b>口</b>」的韻母為<b>侯韻</b>，中古擬音為[əu]，聲調為<b>上聲</b>，故<b>𠁁</b>為定母侯韻上聲，中古擬音為上聲[dəu]。\n",
      "</p>, <p>但是古字典的反切只適用於當時的古音，不可單憑古代字典的反切記錄套用於現代音。因爲古音和現代音有較複雜的演變規律，且不同的漢語族語言也有不同的演變。比如上面的<b>𠁁</b>，如果只憑古字典「徒口切」，取「徒」的<a class=\"mw-redirect\" href=\"/wiki/%E6%99%AE%E9%80%9A%E8%A9%B1\" title=\"普通話\">普通話</a>聲母t，和\"口\"的普通話韻母ou3，推斷為普通話讀做tou3，就錯了。因爲「徒」中古音聲母是全濁音[d]，該聲母的非平聲字按規律在普通話中聲母要演變為清不送氣音d[t]，同時這個中古全濁聲母影響了聲調演變，使中古上聲一律變為普通話去聲，即<b>濁上變去</b>律。所以<b>𠁁</b>的現代普通話讀音是dou4[təu˥˩]。\n",
      "</p>, <p>可見按照「上字取聲，下字取韻」的原則，古人或能很準確地讀出一字字音。然而，由於古今音變的關係，古代所製定的反切，到後世已不能再簡單地以「上字取聲，下字取韻調」的原則讀出該字正確讀音。\n",
      "依《<a href=\"/wiki/%E5%BB%A3%E9%9F%BB\" title=\"廣韻\">廣韻</a>》一書，除了「上字取聲母，下字取韻母」之原則，還有一口訣：「上字辨陰陽<span id=\"noteTag-cite_ref-sup\"><sup class=\"reference\" id=\"cite_ref-9\"><a href=\"#cite_note-9\">[註 3]</a></sup></span>，下字辨平仄<span id=\"noteTag-cite_ref-sup\"><sup class=\"reference\" id=\"cite_ref-10\"><a href=\"#cite_note-10\">[註 4]</a></sup></span>」。\n",
      "</p>]\n",
      "14\n"
     ]
    }
   ],
   "source": [
    "print(content)\n",
    "print(len(content))"
   ]
  },
  {
   "cell_type": "code",
   "execution_count": 56,
   "metadata": {},
   "outputs": [
    {
     "name": "stdout",
     "output_type": "stream",
     "text": [
      "<p><b>反切</b>（又稱<b>反語</b>、<b>音反</b>）是中國自古以來<a class=\"mw-redirect\" href=\"/wiki/%E6%BC%A2%E5%AD%97\" title=\"漢字\">漢字</a>（廣義的）<a class=\"mw-redirect\" href=\"/wiki/%E6%A8%99%E9%9F%B3\" title=\"標音\">注音</a>方法，一般取兩個常用字：前者稱<b>反切上字</b>，取其雙聲之<a class=\"mw-redirect\" href=\"/wiki/%E8%81%B2%E6%AF%8D\" title=\"聲母\">聲母</a>；後者稱<b>反切下字</b>，取其疊韻之<a class=\"mw-redirect\" href=\"/wiki/%E9%9F%BB%E6%AF%8D\" title=\"韻母\">韻母</a>和<a href=\"/wiki/%E8%81%B2%E8%AA%BF\" title=\"聲調\">聲調</a><span id=\"noteTag-cite_ref-sup\"><sup class=\"reference\" id=\"cite_ref-1\"><a href=\"#cite_note-1\">[註 1]</a></sup></span><sup class=\"reference\" id=\"cite_ref-2\"><a href=\"#cite_note-2\">[1]</a></sup>。反切是中國古代最主要和使用時間最長的注音方法之一。\n",
      "</p>\n",
      "<class 'bs4.element.Tag'>\n"
     ]
    }
   ],
   "source": [
    "print(content[0])\n",
    "print(type(content[0]))"
   ]
  },
  {
   "cell_type": "markdown",
   "metadata": {},
   "source": [
    "### 範例2：從爬取的文章內容中，擷取出有外部連結的關鍵字。這些關鍵字在文章中是以藍色字體顯示，會連到外部的網頁，並解釋其內容。"
   ]
  },
  {
   "cell_type": "code",
   "execution_count": 57,
   "metadata": {},
   "outputs": [
    {
     "name": "stdout",
     "output_type": "stream",
     "text": [
      "外部連結: [漢字] /wiki/%E6%BC%A2%E5%AD%97\n",
      "外部連結: [注音] /wiki/%E6%A8%99%E9%9F%B3\n",
      "外部連結: [聲母] /wiki/%E8%81%B2%E6%AF%8D\n",
      "外部連結: [韻母] /wiki/%E9%9F%BB%E6%AF%8D\n",
      "外部連結: [聲調] /wiki/%E8%81%B2%E8%AA%BF\n",
      "外部連結: [梵文] /wiki/%E6%A2%B5%E6%96%87\n",
      "外部連結: [拼音字母] /wiki/%E6%8B%BC%E5%AF%AB%E5%AD%97%E6%AF%8D\n",
      "外部連結: [直音法] /wiki/%E7%9B%B4%E9%9F%B3%E6%B3%95\n",
      "外部連結: [說文] /wiki/%E8%AA%AA%E6%96%87%E8%A7%A3%E5%AD%97\n",
      "外部連結: [說文] /wiki/%E8%AA%AA%E6%96%87%E8%A7%A3%E5%AD%97\n",
      "外部連結: [生僻字] /wiki/%E7%94%9F%E5%83%BB%E5%AD%97\n",
      "外部連結: [錢大昕] /wiki/%E9%92%B1%E5%A4%A7%E6%98%95\n",
      "外部連結: [詩經] /wiki/%E8%AF%97%E7%BB%8F\n",
      "外部連結: [佛經] /wiki/%E4%BD%9B%E7%BB%8F\n",
      "外部連結: [聲韻學] /wiki/%E8%81%B2%E9%9F%BB%E5%AD%B8\n",
      "外部連結: [切韻考] /wiki/%E5%88%87%E9%9F%B5%E8%80%83\n",
      "外部連結: [切韻] /wiki/%E5%88%87%E9%9F%BB\n",
      "外部連結: [中古漢語] /wiki/%E4%B8%AD%E5%8F%A4%E6%BC%A2%E8%AA%9E\n",
      "外部連結: [漢語音韻學] /wiki/%E6%BC%A2%E8%AA%9E%E9%9F%B3%E9%9F%BB%E5%AD%B8\n",
      "外部連結: [聲母] /wiki/%E8%81%B2%E6%AF%8D\n",
      "外部連結: [韻母] /wiki/%E9%9F%BB%E6%AF%8D\n",
      "外部連結: [聲調] /wiki/%E8%81%B2%E8%AA%BF\n",
      "外部連結: [普通話] /wiki/%E6%99%AE%E9%80%9A%E8%A9%B1\n",
      "外部連結: [廣韻] /wiki/%E5%BB%A3%E9%9F%BB\n"
     ]
    }
   ],
   "source": [
    "for ext_link in content:\n",
    "    a_tag = ext_link.find_all('a', href=re.compile(\"^(/wiki/)((?!;)\\S)*$\"))\n",
    "    if len(a_tag) > 0:\n",
    "        for link_string in a_tag:\n",
    "            a_link = link_string[\"href\"]       # 外部連結的網址\n",
    "            a_keyword = link_string.get_text()  # 外部連結的中文名稱\n",
    "            print(\"外部連結: [%s] %s\" % (a_keyword, a_link))"
   ]
  },
  {
   "cell_type": "code",
   "execution_count": 58,
   "metadata": {},
   "outputs": [
    {
     "name": "stdout",
     "output_type": "stream",
     "text": [
      "[<a class=\"mw-redirect\" href=\"/wiki/%E6%BC%A2%E5%AD%97\" title=\"漢字\">漢字</a>, <a class=\"mw-redirect\" href=\"/wiki/%E6%A8%99%E9%9F%B3\" title=\"標音\">注音</a>, <a class=\"mw-redirect\" href=\"/wiki/%E8%81%B2%E6%AF%8D\" title=\"聲母\">聲母</a>, <a class=\"mw-redirect\" href=\"/wiki/%E9%9F%BB%E6%AF%8D\" title=\"韻母\">韻母</a>, <a href=\"/wiki/%E8%81%B2%E8%AA%BF\" title=\"聲調\">聲調</a>]\n",
      "[<a class=\"mw-redirect\" href=\"/wiki/%E6%A2%B5%E6%96%87\" title=\"梵文\">梵文</a>, <a class=\"mw-redirect\" href=\"/wiki/%E6%8B%BC%E5%AF%AB%E5%AD%97%E6%AF%8D\" title=\"拼寫字母\">拼音字母</a>]\n",
      "[<a href=\"/wiki/%E7%9B%B4%E9%9F%B3%E6%B3%95\" title=\"直音法\">直音法</a>, <a class=\"mw-redirect\" href=\"/wiki/%E8%AA%AA%E6%96%87%E8%A7%A3%E5%AD%97\" title=\"說文解字\">說文</a>, <a class=\"mw-redirect\" href=\"/wiki/%E8%AA%AA%E6%96%87%E8%A7%A3%E5%AD%97\" title=\"說文解字\">說文</a>]\n",
      "[<a href=\"/wiki/%E7%94%9F%E5%83%BB%E5%AD%97\" title=\"生僻字\">生僻字</a>]\n",
      "[]\n",
      "[]\n",
      "[<a href=\"/wiki/%E9%92%B1%E5%A4%A7%E6%98%95\" title=\"錢大昕\">錢大昕</a>, <a href=\"/wiki/%E8%AF%97%E7%BB%8F\" title=\"詩經\">詩經</a>, <a href=\"/wiki/%E4%BD%9B%E7%BB%8F\" title=\"佛經\">佛經</a>]\n",
      "[]\n",
      "[<a class=\"mw-redirect\" href=\"/wiki/%E8%81%B2%E9%9F%BB%E5%AD%B8\" title=\"聲韻學\">聲韻學</a>]\n",
      "[<a href=\"/wiki/%E5%88%87%E9%9F%B5%E8%80%83\" title=\"切韻考\">切韻考</a>, <a href=\"/wiki/%E5%88%87%E9%9F%BB\" title=\"切韻\">切韻</a>]\n",
      "[<a class=\"mw-redirect\" href=\"/wiki/%E4%B8%AD%E5%8F%A4%E6%BC%A2%E8%AA%9E\" title=\"中古漢語\">中古漢語</a>, <a class=\"mw-redirect\" href=\"/wiki/%E6%BC%A2%E8%AA%9E%E9%9F%B3%E9%9F%BB%E5%AD%B8\" title=\"漢語音韻學\">漢語音韻學</a>]\n",
      "[<a class=\"mw-redirect\" href=\"/wiki/%E8%81%B2%E6%AF%8D\" title=\"聲母\">聲母</a>, <a class=\"mw-redirect\" href=\"/wiki/%E9%9F%BB%E6%AF%8D\" title=\"韻母\">韻母</a>, <a href=\"/wiki/%E8%81%B2%E8%AA%BF\" title=\"聲調\">聲調</a>]\n",
      "[<a class=\"mw-redirect\" href=\"/wiki/%E6%99%AE%E9%80%9A%E8%A9%B1\" title=\"普通話\">普通話</a>]\n",
      "[<a href=\"/wiki/%E5%BB%A3%E9%9F%BB\" title=\"廣韻\">廣韻</a>]\n"
     ]
    }
   ],
   "source": [
    "for ext_link in content:\n",
    "    print(ext_link.find_all('a', href=re.compile(\"^(/wiki/)((?!;)\\S)*$\")))"
   ]
  },
  {
   "cell_type": "markdown",
   "metadata": {},
   "source": [
    "## 作業：接下來定義一個爬蟲函數，這個函數的主要工作為：\n",
    "### (1) 爬取當前關鍵字的解釋，並存入檔案(因為文章內容太多會佔滿整個頁面，所以存程檔案，方便後續檢視)\n",
    "### (2) 萃取出當前關鍵字所引用的外部連結，當作新的查詢關鍵字\n",
    "### (3) 把第(2)擷取到的關鍵字當作新的關鍵字，回到第(1)步，爬取新的關鍵字解釋。"
   ]
  },
  {
   "cell_type": "code",
   "execution_count": 59,
   "metadata": {},
   "outputs": [],
   "source": [
    "import os\n",
    "os.makedirs('./WikiArticle', exist_ok=True )\n",
    "os.chdir('./WikiArticle')"
   ]
  },
  {
   "cell_type": "code",
   "execution_count": 60,
   "metadata": {},
   "outputs": [],
   "source": [
    "def WikiArticle(key_word_link, key_word, recursive):\n",
    "    \n",
    "    if (recursive <= max_recursive_depth):\n",
    "        print(\"遞迴層[%d] - %s (%s)\" % (recursive, key_word_link, key_word))\n",
    "        \n",
    "        # 模擬封包的標頭\n",
    "        headers = {\n",
    "            'authority': 'zh.wikipedia.org',\n",
    "            'method': 'GET',\n",
    "            'path': '/wiki/' + key_word_link,\n",
    "            'scheme': 'https',\n",
    "            'accept': 'text/html,application/xhtml+xml,application/xml;q=0.9,image/webp,image/apng,*/*;q=0.8,application/signed-exchange;v=b3',\n",
    "            'accept-encoding': 'gzip, deflate, br',\n",
    "            'accept-language': 'zh-TW,zh;q=0.9,en-US;q=0.8,en;q=0.7,zh-CN;q=0.6',\n",
    "            'cookie': 'GeoIP=TW:TPE:Taipei:25.05:121.53:v4; TBLkisOn=0; mwPhp7Seed=8b8; WMF-Last-Access-Global=04-Jun-2019; WMF-Last-Access=04-Jun-2019',\n",
    "            'dnt': '1',\n",
    "            #'if-modified-since': 'Tue, 04 Jun 2019 12:03:22 GMT',\n",
    "            'referer': 'https://zh.wikipedia.org/wiki/Wikipedia:%E9%A6%96%E9%A1%B5',\n",
    "            'upgrade-insecure-requests': '1',\n",
    "            'user-agent': 'Mozilla/5.0 (Windows NT 10.0; Win64; x64) AppleWebKit/537.36 (KHTML, like Gecko) Chrome/74.0.3729.169 Safari/537.36'\n",
    "        }    \n",
    "\n",
    "        url = 'https://zh.wikipedia.org' + key_word_link  # 組合關鍵字查詢URL\n",
    "        resp = requests.get(url, headers=headers)\n",
    "        resp.encoding = 'utf-8'\n",
    "\n",
    "        html = BeautifulSoup(resp.text, \"lxml\")\n",
    "        content = html.find(name='div', attrs={'id':'mw-content-text'}).find_all(name='p')\n",
    "        \n",
    "        #\n",
    "        # Part 1: 請參考範例1，爬取當前關鍵字的文章內容。\n",
    "        #         因為內容太多，我們把它寫入檔案，並以關鍵字作為檔案名稱，以便稍後查閱內容。\n",
    "        #         請先建立一個名為\"WikiArticle\"的資料夾，爬取到的文章內容會放在這個資料夾底下。\n",
    "        #\n",
    "#         os.makedirs('./WikiArticle', exist_ok=True )\n",
    "#         os.chdir('./WikiArticle')\n",
    "        with open(key_word+\".txt\",\"w\",encoding=\"utf-8\") as fh:\n",
    "            for paragraph in content:\n",
    "                f=fh.write(paragraph.get_text())\n",
    "        \n",
    "        #\n",
    "        # Part 2: 請參考範例2，萃取出本篇文章中所延伸引用的外部連結，並儲存在external_link_dict\n",
    "        #\n",
    "        external_link_dict = dict({})    \n",
    "        for ext_link in content:\n",
    "            a_tag = ext_link.find_all('a', href=re.compile(\"^(/wiki/)((?!;)\\S)*$\"))\n",
    "            if len(a_tag) > 0:\n",
    "                for link_string in a_tag:\n",
    "                    a_link = link_string[\"href\"]       # 外部連結的網址\n",
    "                    a_keyword = link_string.get_text()  # 外部連結的中文名稱\n",
    "                    external_link_dict[a_link]=a_keyword\n",
    "                    #print(\"外部連結: [%s] %s\" % (a_keyword, a_link))\n",
    "        #print(external_link_dict)\n",
    "\n",
    "        #\n",
    "        # Part 3: 將Part 2所收集的外部連結，當作新的關鍵字，繼續迭代深入爬蟲\n",
    "        #\n",
    "        if (len(external_link_dict) > 0):\n",
    "            \n",
    "            recursive = recursive + 1  # 遞迴深度加1\n",
    "            \n",
    "            for k,v in external_link_dict.items():\n",
    "                WikiArticle(k, v, recursive)  # 再次呼叫同樣的函數，執行同樣的流程\n",
    "                "
   ]
  },
  {
   "cell_type": "markdown",
   "metadata": {},
   "source": [
    "### 執行前個步驟定義好的爬蟲主程式"
   ]
  },
  {
   "cell_type": "code",
   "execution_count": 61,
   "metadata": {},
   "outputs": [
    {
     "name": "stdout",
     "output_type": "stream",
     "text": [
      "遞迴層[0] - /wiki/%E5%8F%8D%E5%88%87 (反切)\n",
      "遞迴層[1] - /wiki/%E6%BC%A2%E5%AD%97 (漢字)\n",
      "遞迴層[2] - /wiki/%E5%BA%B7%E7%86%99%E9%83%A8%E9%A6%96 (康熙部首)\n",
      "遞迴層[2] - /wiki/%E9%83%A8%E9%A6%96 (部首)\n",
      "遞迴層[2] - /wiki/%E9%99%B6%E6%96%87 (陶文)\n",
      "遞迴層[2] - /wiki/%E7%94%B2%E9%AA%A8%E6%96%87 (甲骨文)\n",
      "遞迴層[2] - /wiki/%E9%87%91%E6%96%87 (金文)\n",
      "遞迴層[2] - /wiki/%E5%8F%A4%E6%96%87_(%E6%96%87%E5%AD%97) (古文)\n",
      "遞迴層[2] - /wiki/%E7%9F%B3%E9%BC%93%E6%96%87 (石鼓文)\n",
      "遞迴層[2] - /wiki/%E7%B1%80%E6%96%87 (籀文)\n",
      "遞迴層[2] - /wiki/%E9%B3%A5%E8%9F%B2%E6%9B%B8 (鳥蟲書)\n",
      "遞迴層[2] - /wiki/%E7%AF%86%E4%B9%A6 (篆書)\n",
      "遞迴層[2] - /wiki/%E5%A4%A7%E7%AF%86 (大篆)\n",
      "遞迴層[2] - /wiki/%E5%B0%8F%E7%AF%86 (小篆)\n",
      "遞迴層[2] - /wiki/%E9%9A%B6%E4%B9%A6 (隷書)\n",
      "遞迴層[2] - /wiki/%E6%A5%B7%E4%B9%A6 (楷書)\n",
      "遞迴層[2] - /wiki/%E8%A1%8C%E4%B9%A6 (行書)\n",
      "遞迴層[2] - /wiki/%E8%8D%89%E4%B9%A6 (草書)\n",
      "遞迴層[2] - /wiki/%E6%BC%86%E4%B9%A6 (漆書)\n",
      "遞迴層[2] - /wiki/%E4%B8%AD%E5%9B%BD%E4%B9%A6%E6%B3%95 (書法)\n",
      "遞迴層[2] - /wiki/%E9%A3%9B%E7%99%BD%E6%9B%B8 (飛白書)\n",
      "遞迴層[2] - /wiki/%E7%AC%94%E7%94%BB (筆畫)\n",
      "遞迴層[2] - /wiki/%E7%AC%94%E9%A1%BA (筆順)\n",
      "遞迴層[2] - /wiki/%E5%81%8F%E6%97%81 (偏旁)\n",
      "遞迴層[2] - /wiki/%E5%85%AD%E4%B9%A6 (六書)\n",
      "遞迴層[2] - /wiki/%E6%B1%89%E5%AD%97%E7%BB%93%E6%9E%84 (漢字結構)\n",
      "遞迴層[2] - /wiki/%E5%90%88%E9%AB%94 (合體)\n",
      "遞迴層[2] - /wiki/%E7%8D%A8%E9%AB%94 (獨體)\n",
      "遞迴層[2] - /wiki/%E6%BC%A2%E5%AD%97%E9%83%A8%E4%BB%B6 (部件)\n",
      "遞迴層[2] - /wiki/%E4%BF%97%E5%AD%97 (俗字)\n",
      "遞迴層[2] - /wiki/%E5%BC%82%E4%BD%93%E5%AD%97 (異體字)\n",
      "遞迴層[2] - /wiki/%E5%A4%9A%E9%9F%B3%E5%AD%97 (多音字)\n",
      "遞迴層[2] - /wiki/%E9%80%9A%E5%81%87%E5%AD%97 (通假字)\n",
      "遞迴層[2] - /wiki/%E5%81%87%E5%80%9F%E5%AD%97 (假借字)\n",
      "遞迴層[2] - /wiki/%E9%9A%B8%E8%AE%8A (隸變)\n",
      "遞迴層[2] - /wiki/%E9%9A%B6%E5%AE%9A (隸定)\n",
      "遞迴層[2] - /wiki/%E5%8F%A4%E4%BB%8A%E5%AD%97 (古今字)\n",
      "遞迴層[2] - /wiki/%E7%94%9F%E5%83%BB%E5%AD%97 (生僻字)\n",
      "遞迴層[2] - /wiki/%E5%8F%B3%E6%96%87%E8%AA%AA (右文說)\n",
      "遞迴層[2] - /wiki/%E5%90%8C%E5%BD%A2%E5%BC%82%E4%B9%89%E8%AF%8D (同形異義詞)\n",
      "遞迴層[2] - /wiki/%E8%A7%84%E8%8C%83%E6%B1%89%E5%AD%97 (陸)\n",
      "遞迴層[2] - /wiki/%E5%B8%B8%E7%94%A8%E5%AD%97%E5%AD%97%E5%BD%A2%E8%A1%A8 (常用字字形表)\n",
      "遞迴層[2] - /wiki/%E8%87%BA%E7%81%A3%E6%BC%A2%E5%AD%97 (臺)\n",
      "遞迴層[2] - /wiki/%E6%96%B0%E5%8A%A0%E5%9D%A1%E6%BC%A2%E5%AD%97 (新)\n",
      "遞迴層[2] - /wiki/%E6%97%A5%E6%9C%AC%E6%B1%89%E5%AD%97 (日本漢字)\n",
      "遞迴層[2] - /wiki/%E6%9C%9D%E9%AE%AE%E6%BC%A2%E5%AD%97 (韓文漢字)\n",
      "遞迴層[2] - /wiki/%E5%84%92%E5%AD%97 (越)\n",
      "遞迴層[2] - /wiki/%E5%90%B4%E8%AF%AD%E5%AD%97 (吳語字)\n",
      "遞迴層[2] - /wiki/%E7%B2%B5%E8%AA%9E%E5%AD%97 (粵語字)\n",
      "遞迴層[2] - /wiki/%E5%9B%9B%E5%B7%9D%E6%96%B9%E8%A8%80%E5%AD%97 (四川方言字)\n",
      "遞迴層[2] - /wiki/%E5%8D%97%E4%BA%AC%E8%A9%B1#.E5.8D.97.E4.BA.AC.E6.96.B9.E8.A8.80.E5.AD.97 (南京官話字)\n",
      "遞迴層[2] - /wiki/%E5%8F%B0%E7%81%A3%E5%AE%A2%E5%AE%B6%E8%AA%9E%E6%9B%B8%E5%AF%AB%E6%8E%A8%E8%96%A6%E7%94%A8%E5%AD%97 (台灣客家語書寫推薦用字)\n",
      "遞迴層[2] - /wiki/%E5%8F%B0%E9%96%A9%E6%BC%A2%E5%AD%97 (台閩漢字)\n",
      "遞迴層[2] - /wiki/%E8%87%BA%E7%81%A3%E9%96%A9%E5%8D%97%E8%AA%9E%E6%8E%A8%E8%96%A6%E7%94%A8%E5%AD%97 (字)\n",
      "遞迴層[2] - /wiki/%E5%8F%B0%E7%81%A3%E9%96%A9%E5%8D%97%E8%AA%9E%E7%94%A8%E8%A9%9E (詞)\n",
      "遞迴層[2] - /wiki/%E7%B9%81%E4%BD%93%E5%AD%97 (正體字)\n",
      "遞迴層[2] - /wiki/%E7%AE%80%E5%8C%96%E5%AD%97 (簡化字)\n",
      "遞迴層[2] - /wiki/%E6%B1%89%E5%AD%97%E7%AE%80%E5%8C%96%E6%96%B9%E6%A1%88 (漢字簡化方案)\n",
      "遞迴層[2] - /wiki/%E4%BA%8C%E7%AE%80%E5%AD%97 (二簡字)\n",
      "遞迴層[2] - /wiki/%E7%AE%80%E7%AC%94%E5%AD%97 (簡筆字)\n",
      "遞迴層[2] - /wiki/%E8%88%8A%E5%AD%97%E9%AB%94 (舊字體)\n",
      "遞迴層[2] - /wiki/%E6%96%B0%E5%AD%97%E4%BD%93 (新字體)\n",
      "遞迴層[2] - /wiki/%E6%93%B4%E5%BC%B5%E6%96%B0%E5%AD%97%E9%AB%94 (擴張新字體)\n",
      "遞迴層[2] - /wiki/%E7%95%B6%E7%94%A8%E6%BC%A2%E5%AD%97 (當用漢字)\n",
      "遞迴層[2] - /wiki/%E5%B8%B8%E7%94%A8%E6%BC%A2%E5%AD%97 (常用漢字)\n",
      "遞迴層[2] - /wiki/%E5%90%8C%E9%9F%B3%E6%B1%89%E5%AD%97%E4%B9%A6%E5%86%99%E8%A7%84%E5%88%99 (同音漢字書寫規則)\n",
      "遞迴層[2] - /wiki/%E9%9F%A9%E5%9B%BD%E5%9B%BD%E5%AD%97 (韓國國字)\n",
      "遞迴層[2] - /wiki/%E6%BC%A2%E6%96%87%E6%95%99%E8%82%B2%E7%94%A8%E5%9F%BA%E7%A4%8E%E6%BC%A2%E5%AD%97 (漢文教育用基礎漢字)\n",
      "遞迴層[2] - /wiki/%E5%90%88%E6%96%87 (多音節字)\n",
      "遞迴層[2] - /wiki/%E5%A5%B3%E4%B9%A6 (女書)\n",
      "遞迴層[2] - /wiki/%E5%88%99%E5%A4%A9%E6%96%87%E5%AD%97 (則天文字)\n",
      "遞迴層[2] - /wiki/%E9%96%A9%E5%8D%97%E8%AA%9E%E6%BC%A2%E5%AD%97%E5%80%9F%E9%9F%B3 (閩南借音字)\n",
      "遞迴層[2] - /wiki/%E6%B3%A8%E9%9F%B3%E7%AC%A6%E5%8F%B7 (注音符號)\n",
      "遞迴層[2] - /wiki/%E5%96%83%E5%AD%97 (喃字)\n",
      "遞迴層[2] - /wiki/%E5%B2%B1%E5%96%83%E5%AD%97 (岱喃字)\n",
      "遞迴層[2] - /wiki/%E6%97%A5%E8%AA%9E%E5%81%87%E5%90%8D (假名)\n",
      "遞迴層[2] - /wiki/%E8%90%AC%E8%91%89%E5%81%87%E5%90%8D (萬葉假名)\n",
      "遞迴層[2] - /wiki/%E5%B9%B3%E5%81%87%E5%90%8D (平)\n",
      "遞迴層[2] - /wiki/%E7%89%87%E5%81%87%E5%90%8D (片)\n",
      "遞迴層[2] - /wiki/%E5%8F%A3%E8%A8%A3_(%E6%9C%9D%E9%AE%AE%E8%AA%9E) (口訣)\n",
      "遞迴層[2] - /wiki/%E5%90%8F%E8%AE%80 (吏讀)\n",
      "遞迴層[2] - /wiki/%E9%84%89%E6%9C%AD (鄉札)\n",
      "遞迴層[2] - /wiki/%E8%A5%BF%E5%A4%8F%E6%96%87 (西夏文)\n",
      "遞迴層[2] - /wiki/%E6%96%B9%E5%9D%97%E4%BE%97%E5%AD%97 (方塊侗字)\n",
      "遞迴層[2] - /wiki/%E6%96%B9%E5%9D%97%E5%A3%AE%E5%AD%97 (古壯字)\n",
      "遞迴層[2] - /wiki/%E5%83%B0%E6%96%87 (僰文)\n",
      "遞迴層[2] - /wiki/%E5%82%88%E5%83%B3%E7%AB%B9%E4%B9%A6 (傈僳竹書)\n",
      "遞迴層[2] - /wiki/%E4%BB%A1%E4%BD%AC%E5%AD%97 (仡佬字)\n",
      "遞迴層[2] - /wiki/%E9%9F%B3%E8%AE%80 (音讀)\n",
      "遞迴層[2] - /wiki/%E6%9C%9D%E9%AE%AE%E6%BC%A2%E5%AD%97%E9%9F%B3 (韓文漢字音)\n",
      "遞迴層[2] - /wiki/%E5%8F%A4%E6%BC%A2%E8%B6%8A%E8%AA%9E (古漢越語)\n",
      "遞迴層[2] - /wiki/%E5%96%83%E9%9F%B3 (喃音)\n",
      "遞迴層[2] - /wiki/%E6%BC%A2%E8%B6%8A%E9%9F%B3 (漢越音)\n",
      "遞迴層[2] - /wiki/Help:%E6%97%A5%E8%AA%9E (?)\n"
     ]
    },
    {
     "ename": "OSError",
     "evalue": "[Errno 22] Invalid argument: '?.txt'",
     "output_type": "error",
     "traceback": [
      "\u001b[1;31m---------------------------------------------------------------------------\u001b[0m",
      "\u001b[1;31mOSError\u001b[0m                                   Traceback (most recent call last)",
      "\u001b[1;32m<ipython-input-61-5bcc6df82908>\u001b[0m in \u001b[0;36m<module>\u001b[1;34m\u001b[0m\n\u001b[0;32m      2\u001b[0m \u001b[0mmax_recursive_depth\u001b[0m \u001b[1;33m=\u001b[0m \u001b[1;36m2\u001b[0m\u001b[1;33m\u001b[0m\u001b[1;33m\u001b[0m\u001b[0m\n\u001b[0;32m      3\u001b[0m \u001b[1;33m\u001b[0m\u001b[0m\n\u001b[1;32m----> 4\u001b[1;33m \u001b[0mWikiArticle\u001b[0m\u001b[1;33m(\u001b[0m\u001b[0mroot_keyword_link\u001b[0m\u001b[1;33m,\u001b[0m \u001b[0minput_keyword\u001b[0m\u001b[1;33m,\u001b[0m \u001b[1;36m0\u001b[0m\u001b[1;33m)\u001b[0m\u001b[1;33m\u001b[0m\u001b[1;33m\u001b[0m\u001b[0m\n\u001b[0m",
      "\u001b[1;32m<ipython-input-60-d8914d32ce09>\u001b[0m in \u001b[0;36mWikiArticle\u001b[1;34m(key_word_link, key_word, recursive)\u001b[0m\n\u001b[0;32m     61\u001b[0m \u001b[1;33m\u001b[0m\u001b[0m\n\u001b[0;32m     62\u001b[0m             \u001b[1;32mfor\u001b[0m \u001b[0mk\u001b[0m\u001b[1;33m,\u001b[0m\u001b[0mv\u001b[0m \u001b[1;32min\u001b[0m \u001b[0mexternal_link_dict\u001b[0m\u001b[1;33m.\u001b[0m\u001b[0mitems\u001b[0m\u001b[1;33m(\u001b[0m\u001b[1;33m)\u001b[0m\u001b[1;33m:\u001b[0m\u001b[1;33m\u001b[0m\u001b[1;33m\u001b[0m\u001b[0m\n\u001b[1;32m---> 63\u001b[1;33m                 \u001b[0mWikiArticle\u001b[0m\u001b[1;33m(\u001b[0m\u001b[0mk\u001b[0m\u001b[1;33m,\u001b[0m \u001b[0mv\u001b[0m\u001b[1;33m,\u001b[0m \u001b[0mrecursive\u001b[0m\u001b[1;33m)\u001b[0m  \u001b[1;31m# 再次呼叫同樣的函數，執行同樣的流程\u001b[0m\u001b[1;33m\u001b[0m\u001b[1;33m\u001b[0m\u001b[0m\n\u001b[0m\u001b[0;32m     64\u001b[0m \u001b[1;33m\u001b[0m\u001b[0m\n",
      "\u001b[1;32m<ipython-input-60-d8914d32ce09>\u001b[0m in \u001b[0;36mWikiArticle\u001b[1;34m(key_word_link, key_word, recursive)\u001b[0m\n\u001b[0;32m     61\u001b[0m \u001b[1;33m\u001b[0m\u001b[0m\n\u001b[0;32m     62\u001b[0m             \u001b[1;32mfor\u001b[0m \u001b[0mk\u001b[0m\u001b[1;33m,\u001b[0m\u001b[0mv\u001b[0m \u001b[1;32min\u001b[0m \u001b[0mexternal_link_dict\u001b[0m\u001b[1;33m.\u001b[0m\u001b[0mitems\u001b[0m\u001b[1;33m(\u001b[0m\u001b[1;33m)\u001b[0m\u001b[1;33m:\u001b[0m\u001b[1;33m\u001b[0m\u001b[1;33m\u001b[0m\u001b[0m\n\u001b[1;32m---> 63\u001b[1;33m                 \u001b[0mWikiArticle\u001b[0m\u001b[1;33m(\u001b[0m\u001b[0mk\u001b[0m\u001b[1;33m,\u001b[0m \u001b[0mv\u001b[0m\u001b[1;33m,\u001b[0m \u001b[0mrecursive\u001b[0m\u001b[1;33m)\u001b[0m  \u001b[1;31m# 再次呼叫同樣的函數，執行同樣的流程\u001b[0m\u001b[1;33m\u001b[0m\u001b[1;33m\u001b[0m\u001b[0m\n\u001b[0m\u001b[0;32m     64\u001b[0m \u001b[1;33m\u001b[0m\u001b[0m\n",
      "\u001b[1;32m<ipython-input-60-d8914d32ce09>\u001b[0m in \u001b[0;36mWikiArticle\u001b[1;34m(key_word_link, key_word, recursive)\u001b[0m\n\u001b[0;32m     35\u001b[0m \u001b[1;31m#         os.makedirs('./WikiArticle', exist_ok=True )\u001b[0m\u001b[1;33m\u001b[0m\u001b[1;33m\u001b[0m\u001b[1;33m\u001b[0m\u001b[0m\n\u001b[0;32m     36\u001b[0m \u001b[1;31m#         os.chdir('./WikiArticle')\u001b[0m\u001b[1;33m\u001b[0m\u001b[1;33m\u001b[0m\u001b[1;33m\u001b[0m\u001b[0m\n\u001b[1;32m---> 37\u001b[1;33m         \u001b[1;32mwith\u001b[0m \u001b[0mopen\u001b[0m\u001b[1;33m(\u001b[0m\u001b[0mkey_word\u001b[0m\u001b[1;33m+\u001b[0m\u001b[1;34m\".txt\"\u001b[0m\u001b[1;33m,\u001b[0m\u001b[1;34m\"w\"\u001b[0m\u001b[1;33m,\u001b[0m\u001b[0mencoding\u001b[0m\u001b[1;33m=\u001b[0m\u001b[1;34m\"utf-8\"\u001b[0m\u001b[1;33m)\u001b[0m \u001b[1;32mas\u001b[0m \u001b[0mfh\u001b[0m\u001b[1;33m:\u001b[0m\u001b[1;33m\u001b[0m\u001b[1;33m\u001b[0m\u001b[0m\n\u001b[0m\u001b[0;32m     38\u001b[0m             \u001b[1;32mfor\u001b[0m \u001b[0mparagraph\u001b[0m \u001b[1;32min\u001b[0m \u001b[0mcontent\u001b[0m\u001b[1;33m:\u001b[0m\u001b[1;33m\u001b[0m\u001b[1;33m\u001b[0m\u001b[0m\n\u001b[0;32m     39\u001b[0m                 \u001b[0mf\u001b[0m\u001b[1;33m=\u001b[0m\u001b[0mfh\u001b[0m\u001b[1;33m.\u001b[0m\u001b[0mwrite\u001b[0m\u001b[1;33m(\u001b[0m\u001b[0mparagraph\u001b[0m\u001b[1;33m.\u001b[0m\u001b[0mget_text\u001b[0m\u001b[1;33m(\u001b[0m\u001b[1;33m)\u001b[0m\u001b[1;33m)\u001b[0m\u001b[1;33m\u001b[0m\u001b[1;33m\u001b[0m\u001b[0m\n",
      "\u001b[1;31mOSError\u001b[0m: [Errno 22] Invalid argument: '?.txt'"
     ]
    }
   ],
   "source": [
    "# 定義爬取的遞迴深度。深度不要訂太深，否則會爬很久。\n",
    "max_recursive_depth = 2\n",
    "\n",
    "WikiArticle(root_keyword_link, input_keyword, 0)"
   ]
  },
  {
   "cell_type": "code",
   "execution_count": null,
   "metadata": {},
   "outputs": [],
   "source": []
  }
 ],
 "metadata": {
  "kernelspec": {
   "display_name": "Python 3",
   "language": "python",
   "name": "python3"
  },
  "language_info": {
   "codemirror_mode": {
    "name": "ipython",
    "version": 3
   },
   "file_extension": ".py",
   "mimetype": "text/x-python",
   "name": "python",
   "nbconvert_exporter": "python",
   "pygments_lexer": "ipython3",
   "version": "3.8.3"
  }
 },
 "nbformat": 4,
 "nbformat_minor": 2
}
